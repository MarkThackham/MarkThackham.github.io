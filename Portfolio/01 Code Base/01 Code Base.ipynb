{
 "cells": [
  {
   "cell_type": "code",
   "execution_count": 2,
   "metadata": {},
   "outputs": [],
   "source": [
    "#================================================================================\n",
    "#\n",
    "# Name: 01 Code Base.ipynb\n",
    "#\n",
    "# Description: This notebook contains applies various machine learning algorithms:\n",
    "#    - XGBoost\n",
    "#    - Light GBM\n",
    "#    - Random Forrest\n",
    "#    - Catboost\n",
    "#    - Logistic Regression\n",
    "#    - Naive Bayes\n",
    "#    - K-Nearest Neighbours\n",
    "#    - Support Vector Machine\n",
    "#    - Neural Network - Multilayer Perception\n",
    "#    - SHAP Explanations\n",
    "#\n",
    "# Author: MT\n",
    "# \n",
    "# Date: 2025-08-20\n",
    "# \n",
    "# Steps:\n",
    "# Step 0: Import Libraries\n",
    "# Step 1: Read Data\n",
    "# Step 2: Prepare Data\n",
    "# Step 3: Models - XGBoost\n",
    "# Step 4: Models - All Others\n",
    "# Step 5: Results\n",
    "# Step 6: Randomised Grid Search\n",
    "# Step 7: Optuna\n",
    "# \n",
    "#================================================================================"
   ]
  },
  {
   "cell_type": "code",
   "execution_count": 3,
   "metadata": {},
   "outputs": [
    {
     "ename": "ModuleNotFoundError",
     "evalue": "No module named 'lightgbm'",
     "output_type": "error",
     "traceback": [
      "\u001b[1;31m---------------------------------------------------------------------------\u001b[0m",
      "\u001b[1;31mModuleNotFoundError\u001b[0m                       Traceback (most recent call last)",
      "Cell \u001b[1;32mIn[3], line 25\u001b[0m\n\u001b[0;32m     22\u001b[0m \u001b[38;5;28;01mimport\u001b[39;00m \u001b[38;5;21;01mxgboost\u001b[39;00m\n\u001b[0;32m     24\u001b[0m \u001b[38;5;66;03m# LightGBM\u001b[39;00m\n\u001b[1;32m---> 25\u001b[0m \u001b[38;5;28;01mfrom\u001b[39;00m \u001b[38;5;21;01mlightgbm\u001b[39;00m \u001b[38;5;28;01mimport\u001b[39;00m LGBMClassifier\n\u001b[0;32m     27\u001b[0m \u001b[38;5;66;03m# Random Forrest\u001b[39;00m\n\u001b[0;32m     28\u001b[0m \u001b[38;5;28;01mfrom\u001b[39;00m \u001b[38;5;21;01msklearn\u001b[39;00m\u001b[38;5;21;01m.\u001b[39;00m\u001b[38;5;21;01mensemble\u001b[39;00m \u001b[38;5;28;01mimport\u001b[39;00m RandomForestClassifier\n",
      "\u001b[1;31mModuleNotFoundError\u001b[0m: No module named 'lightgbm'"
     ]
    }
   ],
   "source": [
    "#================================================================================\n",
    "# Step 0: Import Libraries\n",
    "\n",
    "#--------------------\n",
    "# Pandas and Numpy and copy\n",
    "import pandas as pd\n",
    "import numpy as np\n",
    "import copy\n",
    "pd.options.display.float_format = '{:.8f}'.format # supress scientific notation\n",
    "pd.set_option('display.max_columns', 1000) # 1000 columns\n",
    "#--------------------\n",
    "\n",
    "#--------------------\n",
    "# Plotly Express\n",
    "import plotly.express as px\n",
    "#--------------------\n",
    "\n",
    "#--------------------\n",
    "# Models\n",
    "# XGBoost\n",
    "from xgboost import XGBClassifier\n",
    "import xgboost\n",
    "\n",
    "# LightGBM\n",
    "from lightgbm import LGBMClassifier\n",
    "\n",
    "# Random Forrest\n",
    "from sklearn.ensemble import RandomForestClassifier\n",
    "\n",
    "# Naive Bayes\n",
    "from sklearn.naive_bayes import GaussianNB\n",
    "\n",
    "# Support Vector Machine\n",
    "from sklearn.svm import SVC\n",
    "\n",
    "# K-Nearest Neighbours\n",
    "from sklearn.neighbors import KNeighborsClassifier\n",
    "\n",
    "# Nerual Network\n",
    "from sklearn.neural_network import MLPClassifier\n",
    "\n",
    "# CATBoost\n",
    "from catboost import CatBoostClassifier  \n",
    "\n",
    "# Logistic REgression \n",
    "from sklearn.linear_model import LogisticRegression\n",
    "#--------------------\n",
    "\n",
    "#--------------------\n",
    "# SHAP Explainability\n",
    "import shap\n",
    "shap.initjs()\n",
    "#--------------------\n",
    "\n",
    "#--------------------\n",
    "# Model Performance\n",
    "from sklearn.model_selection import train_test_split, GridSearchCV, RandomizedSearchCV\n",
    "from sklearn.metrics import roc_auc_score, roc_curve\n",
    "#--------------------\n",
    "\n",
    "#--------------------\n",
    "# Graphing\n",
    "import matplotlib.pyplot as plt\n",
    "import seaborn as sns\n",
    "sns.set_theme()\n",
    "#--------------------\n",
    "\n",
    "#--------------------\n",
    "# Hyperparameter Optimisation\n",
    "import optuna\n",
    "#--------------------\n",
    "#================================================================================"
   ]
  },
  {
   "cell_type": "code",
   "execution_count": 2,
   "metadata": {},
   "outputs": [
    {
     "name": "stdout",
     "output_type": "stream",
     "text": [
      "<class 'pandas.core.frame.DataFrame'>\n",
      "RangeIndex: 768 entries, 0 to 767\n",
      "Data columns (total 9 columns):\n",
      " #   Column       Non-Null Count  Dtype  \n",
      "---  ------       --------------  -----  \n",
      " 0   Preg         768 non-null    int64  \n",
      " 1   GlucPlasma   768 non-null    int64  \n",
      " 2   BP           768 non-null    int64  \n",
      " 3   SkinTriceps  768 non-null    int64  \n",
      " 4   Insulin      768 non-null    int64  \n",
      " 5   BMI          768 non-null    float64\n",
      " 6   DPF          768 non-null    float64\n",
      " 7   Age          768 non-null    int64  \n",
      " 8   Outcome      768 non-null    int64  \n",
      "dtypes: float64(2), int64(7)\n",
      "memory usage: 54.1 KB\n"
     ]
    }
   ],
   "source": [
    "#================================================================================\n",
    "# Step 1: Read Data\n",
    "\n",
    "# Preg - Number of times pregnant Numeric\n",
    "# GlucPlasma - glucose concentration at 2 Hours in an oral glucose tolerance test (GTIT)\n",
    "# BP - Diastolic Blood Pressure (mm Hg)\n",
    "# Skin Triceps - skin fold thickness (mm)\n",
    "# Insulin 2-Hour Serum insulin (lh/ml)\n",
    "# BMI - Body mass index [weight in kg/(Height in m)]\n",
    "# DPF - Diabetes pedigree function\n",
    "# Age - Age (years)\n",
    "# Outcome - Binary value indicating non-diabetic /diabetic Factor [0,1]\n",
    "\n",
    "df = pd.read_csv(loc + 'pima-indians-diabetes.data.txt')\n",
    "df.info()\n",
    "#================================================================================"
   ]
  },
  {
   "cell_type": "code",
   "execution_count": 3,
   "metadata": {},
   "outputs": [],
   "source": [
    "#================================================================================\n",
    "# Step 2: Prepare Data\n",
    "\n",
    "# Create X and y\n",
    "X=df.loc[:,df.columns!='Outcome']\n",
    "y=df.loc[:,df.columns=='Outcome']\n",
    "\n",
    "# Train-test split\n",
    "X_train, X_test, y_train, y_test = train_test_split(X, y, test_size=0.33, random_state=7)\n",
    "#================================================================================\n"
   ]
  },
  {
   "cell_type": "code",
   "execution_count": 4,
   "metadata": {},
   "outputs": [],
   "source": [
    "#================================================================================\n",
    "# Step 3: Models - XGBoost\n",
    "\n",
    "#--------------------\n",
    "# XGBoost\n",
    "model_xgb = XGBClassifier()\n",
    "model_xgb.fit(X_train, y_train)\n",
    "pred_xgb=model_xgb.predict_proba(X_test)[:,1]\n",
    "pred_xgb=pd.DataFrame({'pred_xgb': model_xgb.predict_proba(X_test)[:,1]})\n",
    "#--------------------"
   ]
  },
  {
   "cell_type": "code",
   "execution_count": null,
   "metadata": {},
   "outputs": [
    {
     "data": {
      "image/png": "[encoded data removed]",
      "text/plain": [
       "<Figure size 800x470 with 2 Axes>"
      ]
     },
     "metadata": {},
     "output_type": "display_data"
    },
    {
     "data": {
      "image/png": "[encoded data removed]",
      "text/plain": [
       "<Figure size 800x550 with 1 Axes>"
      ]
     },
     "metadata": {},
     "output_type": "display_data"
    },
    {
     "data": {
      "image/png": "[encoded data removed]",
      "text/plain": [
       "<Figure size 600x500 with 2 Axes>"
      ]
     },
     "metadata": {},
     "output_type": "display_data"
    },
    {
     "data": {
      "image/png": "[encoded data removed]",
      "text/plain": [
       "<Figure size 800x550 with 1 Axes>"
      ]
     },
     "metadata": {},
     "output_type": "display_data"
    },
    {
     "data": {
      "text/html": [
       "\n",
       "<div id='iKOQK5M037WCESXZFJ1YQ'>\n",
       "<div style='color: #900; text-align: center;'>\n",
       "  <b>Visualization omitted, Javascript library not loaded!</b><br>\n",
       "  Have you run `initjs()` in this notebook? If this notebook was from another\n",
       "  user you must also trust this notebook (File -> Trust notebook). If you are viewing\n",
       "  this notebook on github the Javascript has been stripped for security. If you are using\n",
       "  JupyterLab this error is because a JupyterLab extension has not yet been written.\n",
       "</div></div>\n",
       " <script>\n",
       "   if (window.SHAP) SHAP.ReactDom.render(\n",
       "    SHAP.React.createElement(SHAP.AdditiveForceVisualizer, {\"outNames\": [\"f(x)\"], \"baseValue\": -0.8836837410926819, \"outValue\": -3.4761319160461426, \"link\": \"identity\", \"featureNames\": [\"Preg\", \"GlucPlasma\", \"BP\", \"SkinTriceps\", \"Insulin\", \"BMI\", \"DPF\", \"Age\"], \"features\": {\"0\": {\"effect\": -0.14485016465187073, \"value\": 3.0}, \"1\": {\"effect\": -1.1116305589675903, \"value\": 102.0}, \"2\": {\"effect\": 0.5230005979537964, \"value\": 44.0}, \"3\": {\"effect\": -0.7291368246078491, \"value\": 20.0}, \"4\": {\"effect\": -0.8595913052558899, \"value\": 94.0}, \"5\": {\"effect\": 0.5529038906097412, \"value\": 30.8}, \"6\": {\"effect\": -1.1432254314422607, \"value\": 0.4}, \"7\": {\"effect\": 0.3200814425945282, \"value\": 26.0}}, \"plot_cmap\": \"RdBu\", \"labelMargin\": 20}),\n",
       "    document.getElementById('iKOQK5M037WCESXZFJ1YQ')\n",
       "  );\n",
       "</script>"
      ],
      "text/plain": [
       "<shap.plots._force.AdditiveForceVisualizer at 0x22ae1a24dd0>"
      ]
     },
     "execution_count": 5,
     "metadata": {},
     "output_type": "execute_result"
    }
   ],
   "source": [
    "# SHAP Values\n",
    "explainer = shap.TreeExplainer(model_xgb)\n",
    "shap_values = explainer(X_train)\n",
    "\n",
    "# Beeswarm\n",
    "shap.plots.beeswarm(shap_values)\n",
    "\n",
    "# Feature importance\n",
    "shap.plots.bar(shap_values)\n",
    "\n",
    "# Scatter plot\n",
    "shap.plots.scatter(shap_values[:, \"BP\"])\n",
    "\n",
    "# Waterfall\n",
    "shap.plots.bar(shap_values[0])\n",
    "\n",
    "# Force plot\n",
    "shap.force_plot(shap_values[0])"
   ]
  },
  {
   "cell_type": "code",
   "execution_count": 6,
   "metadata": {},
   "outputs": [
    {
     "data": {
      "text/plain": [
       "GlucPlasma    1.74399829\n",
       "BMI           0.99749923\n",
       "Age           0.98712558\n",
       "DPF           0.87589228\n",
       "Insulin       0.57161844\n",
       "SkinTriceps   0.44284669\n",
       "BP            0.40630007\n",
       "Preg          0.29808342\n",
       "dtype: float32"
      ]
     },
     "execution_count": 6,
     "metadata": {},
     "output_type": "execute_result"
    }
   ],
   "source": [
    "# Feature importance - mean SHAP value\n",
    "shap_df = pd.DataFrame(shap_values.values, columns=shap_values.feature_names)\n",
    "shap_df.abs().mean(axis=0).sort_values(ascending=False)\n",
    "#================================================================================"
   ]
  },
  {
   "cell_type": "code",
   "execution_count": 7,
   "metadata": {},
   "outputs": [],
   "source": [
    "#================================================================================\n",
    "# Step 4: Models - All Others\n",
    "\n",
    "#--------------------\n",
    "# Light GBM\n",
    "model_lgb=LGBMClassifier()\n",
    "model_lgb.fit(X_train, y_train.iloc[:,0])\n",
    "pred_lgb=pd.DataFrame({'pred_lgb': model_lgb.predict_proba(X_test)[:,1]})\n",
    "#--------------------"
   ]
  },
  {
   "cell_type": "code",
   "execution_count": 8,
   "metadata": {},
   "outputs": [],
   "source": [
    "#--------------------\n",
    "# Random Forrest\n",
    "model_rfc=RandomForestClassifier()\n",
    "model_rfc.fit(X_train, y_train.iloc[:,0])\n",
    "pred_rfc=pd.DataFrame({'pred_rfc': model_rfc.predict_proba(X_test)[:,1]})\n",
    "#--------------------"
   ]
  },
  {
   "cell_type": "code",
   "execution_count": 9,
   "metadata": {},
   "outputs": [],
   "source": [
    "#--------------------\n",
    "# Catboost\n",
    "model_cat=CatBoostClassifier(verbose=False)\n",
    "model_cat.fit(X_train, y_train)\n",
    "pred_cat=pd.DataFrame({'pred_cat': model_cat.predict_proba(X_test)[:,1]})\n",
    "#--------------------"
   ]
  },
  {
   "cell_type": "code",
   "execution_count": 10,
   "metadata": {},
   "outputs": [],
   "source": [
    "#--------------------\n",
    "# Logistic Regression\n",
    "model_lrg=LogisticRegression(penalty=None, solver='newton-cg')\n",
    "model_lrg.fit(X_train, y_train.iloc[:,0])\n",
    "pred_lrg=pd.DataFrame({'pred_lrg': model_lrg.predict_proba(X_test)[:,1]})\n",
    "#--------------------"
   ]
  },
  {
   "cell_type": "code",
   "execution_count": 11,
   "metadata": {},
   "outputs": [],
   "source": [
    "#--------------------\n",
    "# Naive Bayes\n",
    "model_nb=GaussianNB()\n",
    "model_nb.fit(X_train,  y_train.iloc[:,0])\n",
    "pred_nb=pd.DataFrame({'pred_nb': model_nb.predict_proba(X_test)[:,1]})\n",
    "#--------------------"
   ]
  },
  {
   "cell_type": "code",
   "execution_count": 12,
   "metadata": {},
   "outputs": [],
   "source": [
    "#--------------------\n",
    "# K-Nearest Neighbours\n",
    "model_knn=KNeighborsClassifier()\n",
    "model_knn.fit(X_train, y_train.iloc[:,0])\n",
    "pred_knn=pd.DataFrame({'pred_knn': model_knn.predict_proba(X_test)[:,1]})\n",
    "#--------------------"
   ]
  },
  {
   "cell_type": "code",
   "execution_count": 13,
   "metadata": {},
   "outputs": [],
   "source": [
    "#--------------------\n",
    "# Support Vector Machine\n",
    "model_svc=SVC(probability=True)\n",
    "model_svc.fit(X_train, y_train.iloc[:,0])\n",
    "pred_svc=pd.DataFrame({'pred_svc': model_svc.predict_proba(X_test)[:,1]})\n",
    "#--------------------"
   ]
  },
  {
   "cell_type": "code",
   "execution_count": 14,
   "metadata": {},
   "outputs": [],
   "source": [
    "#--------------------\n",
    "# Neural Network - Multilayer Perception\n",
    "model_mlp=MLPClassifier(hidden_layer_sizes=(10,), max_iter=2000)\n",
    "model_mlp.fit(X_train, y_train.iloc[:,0])\n",
    "pred_mlp=pd.DataFrame({'pred_mlp': model_mlp.predict_proba(X_test)[:,1]})\n",
    "#--------------------\n",
    "#================================================================================"
   ]
  },
  {
   "cell_type": "code",
   "execution_count": 15,
   "metadata": {},
   "outputs": [
    {
     "data": {
      "image/png": "[encoded data removed]",
      "text/plain": [
       "<Figure size 640x480 with 1 Axes>"
      ]
     },
     "metadata": {},
     "output_type": "display_data"
    },
    {
     "data": {
      "text/html": [
       "<div>\n",
       "<style scoped>\n",
       "    .dataframe tbody tr th:only-of-type {\n",
       "        vertical-align: middle;\n",
       "    }\n",
       "\n",
       "    .dataframe tbody tr th {\n",
       "        vertical-align: top;\n",
       "    }\n",
       "\n",
       "    .dataframe thead th {\n",
       "        text-align: right;\n",
       "    }\n",
       "</style>\n",
       "<table border=\"1\" class=\"dataframe\">\n",
       "  <thead>\n",
       "    <tr style=\"text-align: right;\">\n",
       "      <th></th>\n",
       "      <th>Model</th>\n",
       "      <th>Gini</th>\n",
       "    </tr>\n",
       "  </thead>\n",
       "  <tbody>\n",
       "    <tr>\n",
       "      <th>0</th>\n",
       "      <td>pred_cat</td>\n",
       "      <td>0.65821256</td>\n",
       "    </tr>\n",
       "    <tr>\n",
       "      <th>0</th>\n",
       "      <td>pred_lrg</td>\n",
       "      <td>0.65646806</td>\n",
       "    </tr>\n",
       "    <tr>\n",
       "      <th>0</th>\n",
       "      <td>pred_svc</td>\n",
       "      <td>0.62486581</td>\n",
       "    </tr>\n",
       "    <tr>\n",
       "      <th>0</th>\n",
       "      <td>pred_nb</td>\n",
       "      <td>0.59433709</td>\n",
       "    </tr>\n",
       "    <tr>\n",
       "      <th>0</th>\n",
       "      <td>pred_xgb</td>\n",
       "      <td>0.56669351</td>\n",
       "    </tr>\n",
       "    <tr>\n",
       "      <th>0</th>\n",
       "      <td>pred_lgb</td>\n",
       "      <td>0.56199678</td>\n",
       "    </tr>\n",
       "    <tr>\n",
       "      <th>0</th>\n",
       "      <td>pred_mlp</td>\n",
       "      <td>0.48148148</td>\n",
       "    </tr>\n",
       "    <tr>\n",
       "      <th>0</th>\n",
       "      <td>pred_knn</td>\n",
       "      <td>0.47597960</td>\n",
       "    </tr>\n",
       "  </tbody>\n",
       "</table>\n",
       "</div>"
      ],
      "text/plain": [
       "      Model       Gini\n",
       "0  pred_cat 0.65821256\n",
       "0  pred_lrg 0.65646806\n",
       "0  pred_svc 0.62486581\n",
       "0   pred_nb 0.59433709\n",
       "0  pred_xgb 0.56669351\n",
       "0  pred_lgb 0.56199678\n",
       "0  pred_mlp 0.48148148\n",
       "0  pred_knn 0.47597960"
      ]
     },
     "metadata": {},
     "output_type": "display_data"
    }
   ],
   "source": [
    "#================================================================================\n",
    "# Step 5: Results\n",
    "\n",
    "#--------------------\n",
    "# Collate All Results\n",
    "results=pd.concat([y_test.reset_index(drop=True), pred_xgb, pred_lgb, pred_cat, pred_lrg, pred_nb, pred_knn, pred_svc, pred_mlp], axis=1)\n",
    "#--------------------\n",
    "\n",
    "#--------------------\n",
    "# Names and Number of Models\n",
    "name_models=results.loc[:,results.columns!='Outcome'].columns\n",
    "n_models=len(name_models)\n",
    "#--------------------\n",
    "\n",
    "#--------------------\n",
    "# Loop Over All Models\n",
    "for i in np.arange(n_models):\n",
    "\n",
    "    # Initialise empty DataFrames\n",
    "    if i==0:\n",
    "        prep_auc=pd.DataFrame()\n",
    "        prep_gini=pd.DataFrame()\n",
    "\n",
    "    # Select the ith model\n",
    "    this_model=name_models[i]\n",
    "\n",
    "    # AUC\n",
    "    fpr, tpr, _= roc_curve(y_true=results['Outcome'], y_score=results[this_model])\n",
    "    t1= pd.DataFrame({'Model': this_model, 'fpr': fpr, 'tpr': tpr})\n",
    "    prep_auc=pd.concat([prep_auc, t1], axis=0)\n",
    "\n",
    "    # Gini\n",
    "    Gini=roc_auc_score(y_true=results['Outcome'], y_score=results[this_model])*2-1\n",
    "    t2=pd.DataFrame({'Model': this_model, 'Gini': Gini}, index=[0])\n",
    "    prep_gini=pd.concat([prep_gini, t2], axis=0)\n",
    "#--------------------\n",
    "\n",
    "#--------------------\n",
    "# Print Results\n",
    "sns.lineplot(data=prep_auc, x='fpr', y='tpr', hue='Model', errorbar=None)\n",
    "plt.plot([0, 1], [0, 1])\n",
    "plt.show()\n",
    "\n",
    "display(prep_gini.sort_values('Gini', ascending=False))\n",
    "#--------------------\n",
    "#================================================================================"
   ]
  },
  {
   "cell_type": "code",
   "execution_count": 16,
   "metadata": {},
   "outputs": [
    {
     "name": "stdout",
     "output_type": "stream",
     "text": [
      "Fitting 3 folds for each of 300 candidates, totalling 900 fits\n"
     ]
    },
    {
     "data": {
      "text/html": [
       "<div>\n",
       "<style scoped>\n",
       "    .dataframe tbody tr th:only-of-type {\n",
       "        vertical-align: middle;\n",
       "    }\n",
       "\n",
       "    .dataframe tbody tr th {\n",
       "        vertical-align: top;\n",
       "    }\n",
       "\n",
       "    .dataframe thead th {\n",
       "        text-align: right;\n",
       "    }\n",
       "</style>\n",
       "<table border=\"1\" class=\"dataframe\">\n",
       "  <thead>\n",
       "    <tr style=\"text-align: right;\">\n",
       "      <th></th>\n",
       "      <th>mean_fit_time</th>\n",
       "      <th>std_fit_time</th>\n",
       "      <th>mean_score_time</th>\n",
       "      <th>std_score_time</th>\n",
       "      <th>param_subsample</th>\n",
       "      <th>param_n_estimators</th>\n",
       "      <th>param_max_depth</th>\n",
       "      <th>param_learning_rate</th>\n",
       "      <th>param_colsample_bytree</th>\n",
       "      <th>params</th>\n",
       "      <th>split0_test_score</th>\n",
       "      <th>split1_test_score</th>\n",
       "      <th>split2_test_score</th>\n",
       "      <th>mean_test_score</th>\n",
       "      <th>std_test_score</th>\n",
       "      <th>rank_test_score</th>\n",
       "      <th>split0_train_score</th>\n",
       "      <th>split1_train_score</th>\n",
       "      <th>split2_train_score</th>\n",
       "      <th>mean_train_score</th>\n",
       "      <th>std_train_score</th>\n",
       "      <th>OOF_Gini</th>\n",
       "      <th>IF_Gini</th>\n",
       "    </tr>\n",
       "  </thead>\n",
       "  <tbody>\n",
       "    <tr>\n",
       "      <th>61</th>\n",
       "      <td>0.24327262</td>\n",
       "      <td>0.01124377</td>\n",
       "      <td>0.01297537</td>\n",
       "      <td>0.00194686</td>\n",
       "      <td>0.50000000</td>\n",
       "      <td>340</td>\n",
       "      <td>2</td>\n",
       "      <td>0.01000000</td>\n",
       "      <td>0.40000000</td>\n",
       "      <td>{'subsample': 0.5, 'n_estimators': 340, 'max_d...</td>\n",
       "      <td>0.85945703</td>\n",
       "      <td>0.80988709</td>\n",
       "      <td>0.83686441</td>\n",
       "      <td>0.83540284</td>\n",
       "      <td>0.02026321</td>\n",
       "      <td>1</td>\n",
       "      <td>0.89914530</td>\n",
       "      <td>0.90632768</td>\n",
       "      <td>0.90995386</td>\n",
       "      <td>0.90514228</td>\n",
       "      <td>0.00449148</td>\n",
       "      <td>0.67080568</td>\n",
       "      <td>0.81028456</td>\n",
       "    </tr>\n",
       "    <tr>\n",
       "      <th>255</th>\n",
       "      <td>0.12721205</td>\n",
       "      <td>0.01121625</td>\n",
       "      <td>0.01158730</td>\n",
       "      <td>0.00331113</td>\n",
       "      <td>0.50000000</td>\n",
       "      <td>220</td>\n",
       "      <td>2</td>\n",
       "      <td>0.05000000</td>\n",
       "      <td>0.30000000</td>\n",
       "      <td>{'subsample': 0.5, 'n_estimators': 220, 'max_d...</td>\n",
       "      <td>0.85210739</td>\n",
       "      <td>0.80195301</td>\n",
       "      <td>0.84972760</td>\n",
       "      <td>0.83459600</td>\n",
       "      <td>0.02310252</td>\n",
       "      <td>2</td>\n",
       "      <td>0.93280152</td>\n",
       "      <td>0.94482109</td>\n",
       "      <td>0.94259133</td>\n",
       "      <td>0.94007131</td>\n",
       "      <td>0.00522050</td>\n",
       "      <td>0.66919200</td>\n",
       "      <td>0.88014263</td>\n",
       "    </tr>\n",
       "    <tr>\n",
       "      <th>73</th>\n",
       "      <td>0.08559028</td>\n",
       "      <td>0.00308982</td>\n",
       "      <td>0.01070841</td>\n",
       "      <td>0.00283283</td>\n",
       "      <td>0.40000000</td>\n",
       "      <td>100</td>\n",
       "      <td>2</td>\n",
       "      <td>0.05000000</td>\n",
       "      <td>0.70000000</td>\n",
       "      <td>{'subsample': 0.4, 'n_estimators': 100, 'max_d...</td>\n",
       "      <td>0.84820759</td>\n",
       "      <td>0.81446445</td>\n",
       "      <td>0.83943705</td>\n",
       "      <td>0.83403636</td>\n",
       "      <td>0.01429511</td>\n",
       "      <td>3</td>\n",
       "      <td>0.90567901</td>\n",
       "      <td>0.91623352</td>\n",
       "      <td>0.91543756</td>\n",
       "      <td>0.91245003</td>\n",
       "      <td>0.00479885</td>\n",
       "      <td>0.66807272</td>\n",
       "      <td>0.82490006</td>\n",
       "    </tr>\n",
       "    <tr>\n",
       "      <th>187</th>\n",
       "      <td>0.15121301</td>\n",
       "      <td>0.00986290</td>\n",
       "      <td>0.01510088</td>\n",
       "      <td>0.00134061</td>\n",
       "      <td>0.50000000</td>\n",
       "      <td>260</td>\n",
       "      <td>2</td>\n",
       "      <td>0.01000000</td>\n",
       "      <td>0.40000000</td>\n",
       "      <td>{'subsample': 0.5, 'n_estimators': 260, 'max_d...</td>\n",
       "      <td>0.86095695</td>\n",
       "      <td>0.80439426</td>\n",
       "      <td>0.83625908</td>\n",
       "      <td>0.83387010</td>\n",
       "      <td>0.02315333</td>\n",
       "      <td>4</td>\n",
       "      <td>0.89321937</td>\n",
       "      <td>0.90188324</td>\n",
       "      <td>0.90371379</td>\n",
       "      <td>0.89960547</td>\n",
       "      <td>0.00457707</td>\n",
       "      <td>0.66774020</td>\n",
       "      <td>0.79921093</td>\n",
       "    </tr>\n",
       "    <tr>\n",
       "      <th>190</th>\n",
       "      <td>0.08892433</td>\n",
       "      <td>0.00421883</td>\n",
       "      <td>0.01343131</td>\n",
       "      <td>0.00356285</td>\n",
       "      <td>0.50000000</td>\n",
       "      <td>140</td>\n",
       "      <td>2</td>\n",
       "      <td>0.05000000</td>\n",
       "      <td>0.30000000</td>\n",
       "      <td>{'subsample': 0.5, 'n_estimators': 140, 'max_d...</td>\n",
       "      <td>0.85105745</td>\n",
       "      <td>0.80363137</td>\n",
       "      <td>0.84579298</td>\n",
       "      <td>0.83349393</td>\n",
       "      <td>0.02122511</td>\n",
       "      <td>5</td>\n",
       "      <td>0.91506173</td>\n",
       "      <td>0.92685499</td>\n",
       "      <td>0.92761516</td>\n",
       "      <td>0.92317729</td>\n",
       "      <td>0.00574696</td>\n",
       "      <td>0.66698786</td>\n",
       "      <td>0.84635458</td>\n",
       "    </tr>\n",
       "  </tbody>\n",
       "</table>\n",
       "</div>"
      ],
      "text/plain": [
       "     mean_fit_time  std_fit_time  mean_score_time  std_score_time  \\\n",
       "61      0.24327262    0.01124377       0.01297537      0.00194686   \n",
       "255     0.12721205    0.01121625       0.01158730      0.00331113   \n",
       "73      0.08559028    0.00308982       0.01070841      0.00283283   \n",
       "187     0.15121301    0.00986290       0.01510088      0.00134061   \n",
       "190     0.08892433    0.00421883       0.01343131      0.00356285   \n",
       "\n",
       "    param_subsample param_n_estimators param_max_depth param_learning_rate  \\\n",
       "61       0.50000000                340               2          0.01000000   \n",
       "255      0.50000000                220               2          0.05000000   \n",
       "73       0.40000000                100               2          0.05000000   \n",
       "187      0.50000000                260               2          0.01000000   \n",
       "190      0.50000000                140               2          0.05000000   \n",
       "\n",
       "    param_colsample_bytree                                             params  \\\n",
       "61              0.40000000  {'subsample': 0.5, 'n_estimators': 340, 'max_d...   \n",
       "255             0.30000000  {'subsample': 0.5, 'n_estimators': 220, 'max_d...   \n",
       "73              0.70000000  {'subsample': 0.4, 'n_estimators': 100, 'max_d...   \n",
       "187             0.40000000  {'subsample': 0.5, 'n_estimators': 260, 'max_d...   \n",
       "190             0.30000000  {'subsample': 0.5, 'n_estimators': 140, 'max_d...   \n",
       "\n",
       "     split0_test_score  split1_test_score  split2_test_score  mean_test_score  \\\n",
       "61          0.85945703         0.80988709         0.83686441       0.83540284   \n",
       "255         0.85210739         0.80195301         0.84972760       0.83459600   \n",
       "73          0.84820759         0.81446445         0.83943705       0.83403636   \n",
       "187         0.86095695         0.80439426         0.83625908       0.83387010   \n",
       "190         0.85105745         0.80363137         0.84579298       0.83349393   \n",
       "\n",
       "     std_test_score  rank_test_score  split0_train_score  split1_train_score  \\\n",
       "61       0.02026321                1          0.89914530          0.90632768   \n",
       "255      0.02310252                2          0.93280152          0.94482109   \n",
       "73       0.01429511                3          0.90567901          0.91623352   \n",
       "187      0.02315333                4          0.89321937          0.90188324   \n",
       "190      0.02122511                5          0.91506173          0.92685499   \n",
       "\n",
       "     split2_train_score  mean_train_score  std_train_score   OOF_Gini  \\\n",
       "61           0.90995386        0.90514228       0.00449148 0.67080568   \n",
       "255          0.94259133        0.94007131       0.00522050 0.66919200   \n",
       "73           0.91543756        0.91245003       0.00479885 0.66807272   \n",
       "187          0.90371379        0.89960547       0.00457707 0.66774020   \n",
       "190          0.92761516        0.92317729       0.00574696 0.66698786   \n",
       "\n",
       "       IF_Gini  \n",
       "61  0.81028456  \n",
       "255 0.88014263  \n",
       "73  0.82490006  \n",
       "187 0.79921093  \n",
       "190 0.84635458  "
      ]
     },
     "metadata": {},
     "output_type": "display_data"
    },
    {
     "name": "stdout",
     "output_type": "stream",
     "text": [
      "Best Model:  XGBClassifier(base_score=None, booster=None, callbacks=None,\n",
      "              colsample_bylevel=None, colsample_bynode=None,\n",
      "              colsample_bytree=0.4, early_stopping_rounds=None,\n",
      "              enable_categorical=False, eval_metric=None, feature_types=None,\n",
      "              gamma=None, gpu_id=None, grow_policy=None, importance_type=None,\n",
      "              interaction_constraints=None, learning_rate=0.01, max_bin=None,\n",
      "              max_cat_threshold=None, max_cat_to_onehot=None,\n",
      "              max_delta_step=None, max_depth=2, max_leaves=None,\n",
      "              min_child_weight=None, missing=nan, monotone_constraints=None,\n",
      "              n_estimators=340, n_jobs=None, num_parallel_tree=None,\n",
      "              predictor=None, random_state=None, ...)\n",
      "Best Test Gini:  0.6631776704240471\n",
      "Best Train Gini:  0.7879236148466917\n",
      "In-Fold Gini [0.81028456]\n",
      "Out-of-Fold Gini [0.67080568]\n",
      "Best Gini:  0.6708056838537384\n",
      "Best Parameters:  {'subsample': 0.5, 'n_estimators': 340, 'max_depth': 2, 'learning_rate': 0.01, 'colsample_bytree': 0.4}\n",
      "Best Index:  61\n",
      "Criteria:  make_scorer(roc_auc_score, needs_threshold=True)\n",
      "Feature Names:  ['Preg' 'GlucPlasma' 'BP' 'SkinTriceps' 'Insulin' 'BMI' 'DPF' 'Age']\n"
     ]
    }
   ],
   "source": [
    "#================================================================================\n",
    "# Step 6: Randomised Grid Search\n",
    "\n",
    "# https://medium.com/@rithpansanga/the-main-parameters-in-xgboost-and-their-effects-on-model-performance-4f9833cac7c\n",
    "# https://datascience.stackexchange.com/questions/108233/recommendations-for-tuning-xgboost-hyperparams\n",
    "# https://mikulskibartosz.name/xgboost-hyperparameter-tuning-in-python-using-grid-search\n",
    "# https://www.kaggle.com/code/prashant111/a-guide-on-xgboost-hyperparameters-tuning\n",
    "\n",
    "# Parameters Space\n",
    "params = {\n",
    "    'max_depth': np.arange (2, 11, 2).round(4),\n",
    "    'n_estimators': np.arange(60, 400, 40).round(4),\n",
    "    'learning_rate': [0.1, 0.01, 0.05, 0.01, 0.001],\n",
    "    'subsample': np.arange(0.2,1.1,0.1).round(4), \n",
    "    'colsample_bytree': np.arange(0.2,1.1,0.1).round(4)\n",
    "}\n",
    "\n",
    "# Define Randomised Grid Search\n",
    "grid_search = RandomizedSearchCV(\n",
    "    estimator=XGBClassifier(),\n",
    "    n_iter=300,\n",
    "    param_distributions=params,\n",
    "    scoring = 'roc_auc',\n",
    "    n_jobs = -1,\n",
    "    cv = 3,\n",
    "    verbose=3,\n",
    "    return_train_score=True,\n",
    "    random_state=1023\n",
    ")\n",
    "\n",
    "# Run Randomised Grid Search\n",
    "grid_search.fit(X_train, y_train)\n",
    "\n",
    "# Tabulated Results\n",
    "gsresults=pd.DataFrame(grid_search.cv_results_).sort_values('mean_test_score', ascending=False)\n",
    "gsresults['OOF_Gini']=gsresults.mean_test_score*2-1\n",
    "gsresults['IF_Gini']=gsresults.mean_train_score*2-1\n",
    "display(gsresults.head(5))\n",
    "\n",
    "# Best Model\n",
    "print('Best Model: ', grid_search.best_estimator_)\n",
    "\n",
    "# Test Gini\n",
    "Test_p=grid_search.predict_proba(X_test)[:,1]\n",
    "Test_Gini=roc_auc_score(y_true=y_test, y_score=Test_p)*2-1\n",
    "print('Best Test Gini: ', Test_Gini)\n",
    "\n",
    "# Train Gini\n",
    "Train_p=grid_search.predict_proba(X_train)[:,1]\n",
    "Train_Gini=roc_auc_score(y_true=y_train, y_score=Train_p)*2-1\n",
    "print('Best Train Gini: ', Train_Gini)\n",
    "\n",
    "# In-Fold Gini\n",
    "print('In-Fold Gini', gsresults[gsresults.rank_test_score==1]['IF_Gini'].values)\n",
    "\n",
    "# Out-of-Fold Gini\n",
    "print('Out-of-Fold Gini', gsresults[gsresults.rank_test_score==1]['OOF_Gini'].values)\n",
    "\n",
    "# Best Gini\n",
    "print('Best Gini: ', grid_search.best_score_*2-1)\n",
    "\n",
    "# Best Parameters\n",
    "print('Best Parameters: ', grid_search.best_params_)\n",
    "\n",
    "# Best Model Index\n",
    "print('Best Index: ', grid_search.best_index_)\n",
    "\n",
    "# Criteria\n",
    "print('Criteria: ', grid_search.scorer_)\n",
    "\n",
    "# Feature Names\n",
    "print('Feature Names: ', grid_search.feature_names_in_)\n",
    "#================================================================================"
   ]
  },
  {
   "cell_type": "code",
   "execution_count": 17,
   "metadata": {},
   "outputs": [
    {
     "data": {
      "text/html": [
       "<div>\n",
       "<style scoped>\n",
       "    .dataframe tbody tr th:only-of-type {\n",
       "        vertical-align: middle;\n",
       "    }\n",
       "\n",
       "    .dataframe tbody tr th {\n",
       "        vertical-align: top;\n",
       "    }\n",
       "\n",
       "    .dataframe thead th {\n",
       "        text-align: right;\n",
       "    }\n",
       "</style>\n",
       "<table border=\"1\" class=\"dataframe\">\n",
       "  <thead>\n",
       "    <tr style=\"text-align: right;\">\n",
       "      <th></th>\n",
       "      <th>IF_Gini</th>\n",
       "      <th>OOF_Gini</th>\n",
       "      <th>Diff</th>\n",
       "    </tr>\n",
       "  </thead>\n",
       "  <tbody>\n",
       "    <tr>\n",
       "      <th>61</th>\n",
       "      <td>0.81028456</td>\n",
       "      <td>0.67080568</td>\n",
       "      <td>0.13947888</td>\n",
       "    </tr>\n",
       "    <tr>\n",
       "      <th>255</th>\n",
       "      <td>0.88014263</td>\n",
       "      <td>0.66919200</td>\n",
       "      <td>0.21095063</td>\n",
       "    </tr>\n",
       "    <tr>\n",
       "      <th>73</th>\n",
       "      <td>0.82490006</td>\n",
       "      <td>0.66807272</td>\n",
       "      <td>0.15682734</td>\n",
       "    </tr>\n",
       "    <tr>\n",
       "      <th>187</th>\n",
       "      <td>0.79921093</td>\n",
       "      <td>0.66774020</td>\n",
       "      <td>0.13147074</td>\n",
       "    </tr>\n",
       "    <tr>\n",
       "      <th>190</th>\n",
       "      <td>0.84635458</td>\n",
       "      <td>0.66698786</td>\n",
       "      <td>0.17936672</td>\n",
       "    </tr>\n",
       "    <tr>\n",
       "      <th>138</th>\n",
       "      <td>0.80881718</td>\n",
       "      <td>0.66632891</td>\n",
       "      <td>0.14248827</td>\n",
       "    </tr>\n",
       "    <tr>\n",
       "      <th>27</th>\n",
       "      <td>0.79654647</td>\n",
       "      <td>0.66549831</td>\n",
       "      <td>0.13104816</td>\n",
       "    </tr>\n",
       "    <tr>\n",
       "      <th>24</th>\n",
       "      <td>0.78726415</td>\n",
       "      <td>0.66413296</td>\n",
       "      <td>0.12313120</td>\n",
       "    </tr>\n",
       "    <tr>\n",
       "      <th>291</th>\n",
       "      <td>0.90327071</td>\n",
       "      <td>0.66377106</td>\n",
       "      <td>0.23949965</td>\n",
       "    </tr>\n",
       "    <tr>\n",
       "      <th>205</th>\n",
       "      <td>0.77060328</td>\n",
       "      <td>0.66372313</td>\n",
       "      <td>0.10688016</td>\n",
       "    </tr>\n",
       "    <tr>\n",
       "      <th>230</th>\n",
       "      <td>0.78450072</td>\n",
       "      <td>0.66359040</td>\n",
       "      <td>0.12091031</td>\n",
       "    </tr>\n",
       "    <tr>\n",
       "      <th>287</th>\n",
       "      <td>0.82828973</td>\n",
       "      <td>0.66327915</td>\n",
       "      <td>0.16501058</td>\n",
       "    </tr>\n",
       "    <tr>\n",
       "      <th>52</th>\n",
       "      <td>0.86016465</td>\n",
       "      <td>0.66324171</td>\n",
       "      <td>0.19692294</td>\n",
       "    </tr>\n",
       "    <tr>\n",
       "      <th>43</th>\n",
       "      <td>0.81447922</td>\n",
       "      <td>0.66272755</td>\n",
       "      <td>0.15175167</td>\n",
       "    </tr>\n",
       "    <tr>\n",
       "      <th>55</th>\n",
       "      <td>0.81473141</td>\n",
       "      <td>0.66240718</td>\n",
       "      <td>0.15232423</td>\n",
       "    </tr>\n",
       "    <tr>\n",
       "      <th>108</th>\n",
       "      <td>0.80653556</td>\n",
       "      <td>0.66240536</td>\n",
       "      <td>0.14413020</td>\n",
       "    </tr>\n",
       "    <tr>\n",
       "      <th>274</th>\n",
       "      <td>0.88275738</td>\n",
       "      <td>0.66183173</td>\n",
       "      <td>0.22092564</td>\n",
       "    </tr>\n",
       "    <tr>\n",
       "      <th>182</th>\n",
       "      <td>0.78173609</td>\n",
       "      <td>0.66149454</td>\n",
       "      <td>0.12024155</td>\n",
       "    </tr>\n",
       "    <tr>\n",
       "      <th>3</th>\n",
       "      <td>0.89724201</td>\n",
       "      <td>0.66025436</td>\n",
       "      <td>0.23698765</td>\n",
       "    </tr>\n",
       "    <tr>\n",
       "      <th>254</th>\n",
       "      <td>0.83853096</td>\n",
       "      <td>0.65944963</td>\n",
       "      <td>0.17908132</td>\n",
       "    </tr>\n",
       "  </tbody>\n",
       "</table>\n",
       "</div>"
      ],
      "text/plain": [
       "       IF_Gini   OOF_Gini       Diff\n",
       "61  0.81028456 0.67080568 0.13947888\n",
       "255 0.88014263 0.66919200 0.21095063\n",
       "73  0.82490006 0.66807272 0.15682734\n",
       "187 0.79921093 0.66774020 0.13147074\n",
       "190 0.84635458 0.66698786 0.17936672\n",
       "138 0.80881718 0.66632891 0.14248827\n",
       "27  0.79654647 0.66549831 0.13104816\n",
       "24  0.78726415 0.66413296 0.12313120\n",
       "291 0.90327071 0.66377106 0.23949965\n",
       "205 0.77060328 0.66372313 0.10688016\n",
       "230 0.78450072 0.66359040 0.12091031\n",
       "287 0.82828973 0.66327915 0.16501058\n",
       "52  0.86016465 0.66324171 0.19692294\n",
       "43  0.81447922 0.66272755 0.15175167\n",
       "55  0.81473141 0.66240718 0.15232423\n",
       "108 0.80653556 0.66240536 0.14413020\n",
       "274 0.88275738 0.66183173 0.22092564\n",
       "182 0.78173609 0.66149454 0.12024155\n",
       "3   0.89724201 0.66025436 0.23698765\n",
       "254 0.83853096 0.65944963 0.17908132"
      ]
     },
     "metadata": {},
     "output_type": "display_data"
    },
    {
     "data": {
      "application/vnd.plotly.v1+json": {
       "config": {
        "plotlyServerURL": "https://plot.ly"
       },
       "data": [
        {
         "alignmentgroup": "True",
         "bingroup": "x",
         "hovertemplate": "IF_Gini=%{x}<br>count=%{y}<extra></extra>",
         "legendgroup": "",
         "marker": {
          "color": "#636efa",
          "pattern": {
           "shape": ""
          }
         },
         "name": "",
         "nbinsx": 20,
         "offsetgroup": "",
         "orientation": "v",
         "showlegend": false,
         "type": "histogram",
         "x": [
          0.8102845626949424,
          0.8801426291458458,
          0.8249000636387933,
          0.7992109340401925,
          0.8463545844550129,
          0.8088171754755091,
          0.796546470872088,
          0.7872641524618924,
          0.9032707073098385,
          0.7706032818017219,
          0.784500717984044,
          0.8282897346110853,
          0.8601646536856442,
          0.8144792209582306,
          0.8147314115775692,
          0.8065355630604032,
          0.8827573778006255,
          0.7817360926825454,
          0.8972420134928676,
          0.8385309566430512,
          0.8178510485681796,
          0.8807686491268978,
          0.8710962153696684,
          0.7921662891214414,
          0.8511142496056585,
          0.8638402324898002,
          0.8953077455339009,
          0.9295058836801748,
          0.84136498588176,
          0.9019308236867358,
          0.9217725476499201,
          0.9744335537259223,
          0.9731696909931333,
          0.9286221026080697,
          0.9340687305615727,
          0.8561405737880248,
          0.9342797494503243,
          0.8106931424558876,
          0.7635614762471754,
          0.8513969971017119,
          0.8652538560156513,
          0.9505303747158322,
          0.9180371028931935,
          0.9739824233859533,
          0.8042621439678255,
          0.7695338025121536,
          0.9747293717935186,
          0.9457561480900314,
          0.9363358004939257,
          0.9505537828521682,
          0.9687772040647731,
          0.9093748712374448,
          0.9166093566166895,
          0.8692405892525885,
          0.9074617076363654,
          0.7953789053187414,
          0.8841921227775267,
          0.8945761581816445,
          0.892161992090329,
          0.930159509118561,
          0.7631540702167172,
          0.9912768559102905,
          0.8968662317121561,
          0.8112962481030743,
          0.8371635929124721,
          0.7691996615743761,
          0.8161731229677833,
          0.7844983591276276,
          0.920827223596085,
          0.8708882580562329,
          0.9774815437765625,
          0.9489390411770959,
          0.9093224730976175,
          0.8521102510876357,
          0.7873818009004581,
          0.7758143754730593,
          0.7820331395585967,
          0.9296782169438538,
          0.9826264223351036,
          0.8380513680868662,
          0.8992800198546578,
          0.932251104443828,
          0.7613093856228366,
          0.837402542028644,
          0.8426026865798211,
          0.8945256858714519,
          0.7987034124077272,
          0.9937491995295773,
          0.9550193886317082,
          0.930939076977775,
          0.8830855988064794,
          0.8809046974052059,
          0.9789968811151084,
          0.8377183173130043,
          0.8206959642521199,
          0.9025003621613792,
          0.9877740585905179,
          0.9877740585905179,
          0.885906853755128,
          0.7249266387582807,
          0.9673669915744476,
          0.9820919267426944,
          0.9410206773611938,
          0.7715018712502173,
          0.9370713325682243,
          0.9110037812449356,
          0.8989289775777118,
          0.7933574451381895,
          0.9620411249143146,
          0.9677781372089991,
          0.7813687834126812,
          0.891236296684691,
          0.9461962628364311,
          0.9527405756967611,
          0.9358831412655386,
          0.9845135967323191,
          0.8226217672972,
          0.7653734863114394,
          0.9734272279738339,
          0.9916719966470813,
          0.8395372501080551,
          0.9272204101095991,
          0.9852262733492008,
          0.7729051097302684,
          0.7624290257471931,
          0.923956128879216,
          0.923956128879216,
          0.9791887689566139,
          0.9520929233690263,
          0.9641455401114083,
          0.9036191951086205,
          0.9609634485037379,
          0.7984410883919244,
          0.8363300524432467,
          0.9894822428869059,
          0.9129176057816295,
          0.9855978900959983,
          0.951994675669825,
          0.951994675669825,
          0.7800406285478696,
          0.8615559079595878,
          0.9373353630514105,
          0.793626732718445,
          0.8792325170066284,
          0.9832272488939655,
          0.8129092396282369,
          0.9148211630254195,
          0.984834120117356,
          0.7421251216641445,
          0.9083314343304678,
          0.8077882354695181,
          0.8671369119103396,
          0.8846178260887527,
          0.9241469189598452,
          0.7627857049692626,
          0.9866517291419379,
          0.987014427056425,
          0.9933932667089342,
          0.9987133425854822,
          0.9757864281524764,
          0.8597935953154858,
          0.8759009229025729,
          0.8799624083373228,
          0.8959438466823098,
          0.9685126152049472,
          0.8762140221573915,
          0.9278942396659844,
          0.9977062438426039,
          0.981679151559991,
          0.9726313627338576,
          0.8560252348256281,
          0.9666127956660098,
          0.9981091201850163,
          0.9573556080030758,
          0.8580368550423383,
          0.9850740929240336,
          0.9991937136286584,
          0.9991937136286584,
          0.9955908966185121,
          0.9966955802257369,
          0.8384014493482355,
          0.9590719837227513,
          0.9950567030053055,
          0.7686291449909939,
          0.9167741726873768,
          0.9464833197086584,
          0.8576255156852792,
          0.9862049689538317,
          0.9972991568845109,
          0.966431970899081,
          0.9999748901443819,
          0.8506428543720013,
          0.8228769777085698,
          0.9870291518662435,
          0.9132339584350317,
          0.8103902421213223,
          0.9998484824096876,
          0.8638990044799755,
          0.8690406619270175,
          0.9002982443470418,
          0.8667796714627707,
          0.9967727102723687,
          0.7671799401482915,
          0.7649313545718723,
          0.9017197459215358,
          0.9977303357054368,
          0.9992685114082376,
          0.9998486970238385,
          0.9940926410469599,
          0.9090687080080944,
          0.9419743675684213,
          0.9999748901443819,
          0.916398478271718,
          0.9911715278433608,
          0.9229675420312553,
          0.9993453432741468,
          0.9999497802887634,
          0.9995463151818669,
          0.9999246704331448,
          1,
          0.8987844776801996,
          0.895688848985851,
          1,
          0.9977786998589293,
          0.9999243532600197,
          0.9968978948963283,
          0.754750671773154,
          0.9725264695929496,
          0.9248160459973203,
          0.9657970301864773,
          0.9101168968142286,
          0.9469601771573339,
          0.9974781830709034,
          0.9989413273875716,
          0.737383749995786,
          0.916421552141766,
          0.9952846612180313,
          0.9687725167397849,
          0.9884188050806386,
          0.9872155869889314,
          0.8697751987994142,
          0.9203022318019902,
          0.9140268285731012,
          0.9999496777297887,
          1,
          0.9647367812046246,
          0.9999497802887634,
          0.9857764699609275,
          1,
          1,
          1,
          1,
          1,
          1,
          1,
          0.9390621997864972,
          1,
          1,
          0.974263824320655,
          0.9746233429069289,
          0.9066757906169272,
          0.9918039957451319,
          1,
          0.8570270669752362,
          0.992083328407179,
          1,
          0.7413025758968461,
          1,
          0.9979294596523733,
          1,
          1,
          1,
          0.991247284739277,
          1,
          0.892437136927579,
          0.9549787961694032,
          0.968688260743658,
          0.9302112634159363,
          1,
          0.9261085150870663,
          1,
          0.9955598041560412,
          0.9555322366835124,
          0.9417113208916952,
          0.910142639116857,
          0.9970748585077871,
          1,
          0.9964111405066023,
          1,
          0.7196304239868729,
          0.9086265990594107,
          0.9961645963285879,
          0.7310095302452353,
          0.9496236869068229,
          0.9913707562485126,
          0.8965071005708973,
          0.9892009464104194,
          0.9981061535717135,
          0.9990926873409416,
          0.9995200391927221
         ],
         "xaxis": "x",
         "yaxis": "y"
        }
       ],
       "layout": {
        "barmode": "relative",
        "legend": {
         "tracegroupgap": 0
        },
        "margin": {
         "t": 60
        },
        "template": {
         "data": {
          "bar": [
           {
            "error_x": {
             "color": "#2a3f5f"
            },
            "error_y": {
             "color": "#2a3f5f"
            },
            "marker": {
             "line": {
              "color": "#E5ECF6",
              "width": 0.5
             },
             "pattern": {
              "fillmode": "overlay",
              "size": 10,
              "solidity": 0.2
             }
            },
            "type": "bar"
           }
          ],
          "barpolar": [
           {
            "marker": {
             "line": {
              "color": "#E5ECF6",
              "width": 0.5
             },
             "pattern": {
              "fillmode": "overlay",
              "size": 10,
              "solidity": 0.2
             }
            },
            "type": "barpolar"
           }
          ],
          "carpet": [
           {
            "aaxis": {
             "endlinecolor": "#2a3f5f",
             "gridcolor": "white",
             "linecolor": "white",
             "minorgridcolor": "white",
             "startlinecolor": "#2a3f5f"
            },
            "baxis": {
             "endlinecolor": "#2a3f5f",
             "gridcolor": "white",
             "linecolor": "white",
             "minorgridcolor": "white",
             "startlinecolor": "#2a3f5f"
            },
            "type": "carpet"
           }
          ],
          "choropleth": [
           {
            "colorbar": {
             "outlinewidth": 0,
             "ticks": ""
            },
            "type": "choropleth"
           }
          ],
          "contour": [
           {
            "colorbar": {
             "outlinewidth": 0,
             "ticks": ""
            },
            "colorscale": [
             [
              0,
              "#0d0887"
             ],
             [
              0.1111111111111111,
              "#46039f"
             ],
             [
              0.2222222222222222,
              "#7201a8"
             ],
             [
              0.3333333333333333,
              "#9c179e"
             ],
             [
              0.4444444444444444,
              "#bd3786"
             ],
             [
              0.5555555555555556,
              "#d8576b"
             ],
             [
              0.6666666666666666,
              "#ed7953"
             ],
             [
              0.7777777777777778,
              "#fb9f3a"
             ],
             [
              0.8888888888888888,
              "#fdca26"
             ],
             [
              1,
              "#f0f921"
             ]
            ],
            "type": "contour"
           }
          ],
          "contourcarpet": [
           {
            "colorbar": {
             "outlinewidth": 0,
             "ticks": ""
            },
            "type": "contourcarpet"
           }
          ],
          "heatmap": [
           {
            "colorbar": {
             "outlinewidth": 0,
             "ticks": ""
            },
            "colorscale": [
             [
              0,
              "#0d0887"
             ],
             [
              0.1111111111111111,
              "#46039f"
             ],
             [
              0.2222222222222222,
              "#7201a8"
             ],
             [
              0.3333333333333333,
              "#9c179e"
             ],
             [
              0.4444444444444444,
              "#bd3786"
             ],
             [
              0.5555555555555556,
              "#d8576b"
             ],
             [
              0.6666666666666666,
              "#ed7953"
             ],
             [
              0.7777777777777778,
              "#fb9f3a"
             ],
             [
              0.8888888888888888,
              "#fdca26"
             ],
             [
              1,
              "#f0f921"
             ]
            ],
            "type": "heatmap"
           }
          ],
          "heatmapgl": [
           {
            "colorbar": {
             "outlinewidth": 0,
             "ticks": ""
            },
            "colorscale": [
             [
              0,
              "#0d0887"
             ],
             [
              0.1111111111111111,
              "#46039f"
             ],
             [
              0.2222222222222222,
              "#7201a8"
             ],
             [
              0.3333333333333333,
              "#9c179e"
             ],
             [
              0.4444444444444444,
              "#bd3786"
             ],
             [
              0.5555555555555556,
              "#d8576b"
             ],
             [
              0.6666666666666666,
              "#ed7953"
             ],
             [
              0.7777777777777778,
              "#fb9f3a"
             ],
             [
              0.8888888888888888,
              "#fdca26"
             ],
             [
              1,
              "#f0f921"
             ]
            ],
            "type": "heatmapgl"
           }
          ],
          "histogram": [
           {
            "marker": {
             "pattern": {
              "fillmode": "overlay",
              "size": 10,
              "solidity": 0.2
             }
            },
            "type": "histogram"
           }
          ],
          "histogram2d": [
           {
            "colorbar": {
             "outlinewidth": 0,
             "ticks": ""
            },
            "colorscale": [
             [
              0,
              "#0d0887"
             ],
             [
              0.1111111111111111,
              "#46039f"
             ],
             [
              0.2222222222222222,
              "#7201a8"
             ],
             [
              0.3333333333333333,
              "#9c179e"
             ],
             [
              0.4444444444444444,
              "#bd3786"
             ],
             [
              0.5555555555555556,
              "#d8576b"
             ],
             [
              0.6666666666666666,
              "#ed7953"
             ],
             [
              0.7777777777777778,
              "#fb9f3a"
             ],
             [
              0.8888888888888888,
              "#fdca26"
             ],
             [
              1,
              "#f0f921"
             ]
            ],
            "type": "histogram2d"
           }
          ],
          "histogram2dcontour": [
           {
            "colorbar": {
             "outlinewidth": 0,
             "ticks": ""
            },
            "colorscale": [
             [
              0,
              "#0d0887"
             ],
             [
              0.1111111111111111,
              "#46039f"
             ],
             [
              0.2222222222222222,
              "#7201a8"
             ],
             [
              0.3333333333333333,
              "#9c179e"
             ],
             [
              0.4444444444444444,
              "#bd3786"
             ],
             [
              0.5555555555555556,
              "#d8576b"
             ],
             [
              0.6666666666666666,
              "#ed7953"
             ],
             [
              0.7777777777777778,
              "#fb9f3a"
             ],
             [
              0.8888888888888888,
              "#fdca26"
             ],
             [
              1,
              "#f0f921"
             ]
            ],
            "type": "histogram2dcontour"
           }
          ],
          "mesh3d": [
           {
            "colorbar": {
             "outlinewidth": 0,
             "ticks": ""
            },
            "type": "mesh3d"
           }
          ],
          "parcoords": [
           {
            "line": {
             "colorbar": {
              "outlinewidth": 0,
              "ticks": ""
             }
            },
            "type": "parcoords"
           }
          ],
          "pie": [
           {
            "automargin": true,
            "type": "pie"
           }
          ],
          "scatter": [
           {
            "fillpattern": {
             "fillmode": "overlay",
             "size": 10,
             "solidity": 0.2
            },
            "type": "scatter"
           }
          ],
          "scatter3d": [
           {
            "line": {
             "colorbar": {
              "outlinewidth": 0,
              "ticks": ""
             }
            },
            "marker": {
             "colorbar": {
              "outlinewidth": 0,
              "ticks": ""
             }
            },
            "type": "scatter3d"
           }
          ],
          "scattercarpet": [
           {
            "marker": {
             "colorbar": {
              "outlinewidth": 0,
              "ticks": ""
             }
            },
            "type": "scattercarpet"
           }
          ],
          "scattergeo": [
           {
            "marker": {
             "colorbar": {
              "outlinewidth": 0,
              "ticks": ""
             }
            },
            "type": "scattergeo"
           }
          ],
          "scattergl": [
           {
            "marker": {
             "colorbar": {
              "outlinewidth": 0,
              "ticks": ""
             }
            },
            "type": "scattergl"
           }
          ],
          "scattermapbox": [
           {
            "marker": {
             "colorbar": {
              "outlinewidth": 0,
              "ticks": ""
             }
            },
            "type": "scattermapbox"
           }
          ],
          "scatterpolar": [
           {
            "marker": {
             "colorbar": {
              "outlinewidth": 0,
              "ticks": ""
             }
            },
            "type": "scatterpolar"
           }
          ],
          "scatterpolargl": [
           {
            "marker": {
             "colorbar": {
              "outlinewidth": 0,
              "ticks": ""
             }
            },
            "type": "scatterpolargl"
           }
          ],
          "scatterternary": [
           {
            "marker": {
             "colorbar": {
              "outlinewidth": 0,
              "ticks": ""
             }
            },
            "type": "scatterternary"
           }
          ],
          "surface": [
           {
            "colorbar": {
             "outlinewidth": 0,
             "ticks": ""
            },
            "colorscale": [
             [
              0,
              "#0d0887"
             ],
             [
              0.1111111111111111,
              "#46039f"
             ],
             [
              0.2222222222222222,
              "#7201a8"
             ],
             [
              0.3333333333333333,
              "#9c179e"
             ],
             [
              0.4444444444444444,
              "#bd3786"
             ],
             [
              0.5555555555555556,
              "#d8576b"
             ],
             [
              0.6666666666666666,
              "#ed7953"
             ],
             [
              0.7777777777777778,
              "#fb9f3a"
             ],
             [
              0.8888888888888888,
              "#fdca26"
             ],
             [
              1,
              "#f0f921"
             ]
            ],
            "type": "surface"
           }
          ],
          "table": [
           {
            "cells": {
             "fill": {
              "color": "#EBF0F8"
             },
             "line": {
              "color": "white"
             }
            },
            "header": {
             "fill": {
              "color": "#C8D4E3"
             },
             "line": {
              "color": "white"
             }
            },
            "type": "table"
           }
          ]
         },
         "layout": {
          "annotationdefaults": {
           "arrowcolor": "#2a3f5f",
           "arrowhead": 0,
           "arrowwidth": 1
          },
          "autotypenumbers": "strict",
          "coloraxis": {
           "colorbar": {
            "outlinewidth": 0,
            "ticks": ""
           }
          },
          "colorscale": {
           "diverging": [
            [
             0,
             "#8e0152"
            ],
            [
             0.1,
             "#c51b7d"
            ],
            [
             0.2,
             "#de77ae"
            ],
            [
             0.3,
             "#f1b6da"
            ],
            [
             0.4,
             "#fde0ef"
            ],
            [
             0.5,
             "#f7f7f7"
            ],
            [
             0.6,
             "#e6f5d0"
            ],
            [
             0.7,
             "#b8e186"
            ],
            [
             0.8,
             "#7fbc41"
            ],
            [
             0.9,
             "#4d9221"
            ],
            [
             1,
             "#276419"
            ]
           ],
           "sequential": [
            [
             0,
             "#0d0887"
            ],
            [
             0.1111111111111111,
             "#46039f"
            ],
            [
             0.2222222222222222,
             "#7201a8"
            ],
            [
             0.3333333333333333,
             "#9c179e"
            ],
            [
             0.4444444444444444,
             "#bd3786"
            ],
            [
             0.5555555555555556,
             "#d8576b"
            ],
            [
             0.6666666666666666,
             "#ed7953"
            ],
            [
             0.7777777777777778,
             "#fb9f3a"
            ],
            [
             0.8888888888888888,
             "#fdca26"
            ],
            [
             1,
             "#f0f921"
            ]
           ],
           "sequentialminus": [
            [
             0,
             "#0d0887"
            ],
            [
             0.1111111111111111,
             "#46039f"
            ],
            [
             0.2222222222222222,
             "#7201a8"
            ],
            [
             0.3333333333333333,
             "#9c179e"
            ],
            [
             0.4444444444444444,
             "#bd3786"
            ],
            [
             0.5555555555555556,
             "#d8576b"
            ],
            [
             0.6666666666666666,
             "#ed7953"
            ],
            [
             0.7777777777777778,
             "#fb9f3a"
            ],
            [
             0.8888888888888888,
             "#fdca26"
            ],
            [
             1,
             "#f0f921"
            ]
           ]
          },
          "colorway": [
           "#636efa",
           "#EF553B",
           "#00cc96",
           "#ab63fa",
           "#FFA15A",
           "#19d3f3",
           "#FF6692",
           "#B6E880",
           "#FF97FF",
           "#FECB52"
          ],
          "font": {
           "color": "#2a3f5f"
          },
          "geo": {
           "bgcolor": "white",
           "lakecolor": "white",
           "landcolor": "#E5ECF6",
           "showlakes": true,
           "showland": true,
           "subunitcolor": "white"
          },
          "hoverlabel": {
           "align": "left"
          },
          "hovermode": "closest",
          "mapbox": {
           "style": "light"
          },
          "paper_bgcolor": "white",
          "plot_bgcolor": "#E5ECF6",
          "polar": {
           "angularaxis": {
            "gridcolor": "white",
            "linecolor": "white",
            "ticks": ""
           },
           "bgcolor": "#E5ECF6",
           "radialaxis": {
            "gridcolor": "white",
            "linecolor": "white",
            "ticks": ""
           }
          },
          "scene": {
           "xaxis": {
            "backgroundcolor": "#E5ECF6",
            "gridcolor": "white",
            "gridwidth": 2,
            "linecolor": "white",
            "showbackground": true,
            "ticks": "",
            "zerolinecolor": "white"
           },
           "yaxis": {
            "backgroundcolor": "#E5ECF6",
            "gridcolor": "white",
            "gridwidth": 2,
            "linecolor": "white",
            "showbackground": true,
            "ticks": "",
            "zerolinecolor": "white"
           },
           "zaxis": {
            "backgroundcolor": "#E5ECF6",
            "gridcolor": "white",
            "gridwidth": 2,
            "linecolor": "white",
            "showbackground": true,
            "ticks": "",
            "zerolinecolor": "white"
           }
          },
          "shapedefaults": {
           "line": {
            "color": "#2a3f5f"
           }
          },
          "ternary": {
           "aaxis": {
            "gridcolor": "white",
            "linecolor": "white",
            "ticks": ""
           },
           "baxis": {
            "gridcolor": "white",
            "linecolor": "white",
            "ticks": ""
           },
           "bgcolor": "#E5ECF6",
           "caxis": {
            "gridcolor": "white",
            "linecolor": "white",
            "ticks": ""
           }
          },
          "title": {
           "x": 0.05
          },
          "xaxis": {
           "automargin": true,
           "gridcolor": "white",
           "linecolor": "white",
           "ticks": "",
           "title": {
            "standoff": 15
           },
           "zerolinecolor": "white",
           "zerolinewidth": 2
          },
          "yaxis": {
           "automargin": true,
           "gridcolor": "white",
           "linecolor": "white",
           "ticks": "",
           "title": {
            "standoff": 15
           },
           "zerolinecolor": "white",
           "zerolinewidth": 2
          }
         }
        },
        "xaxis": {
         "anchor": "y",
         "domain": [
          0,
          1
         ],
         "title": {
          "text": "IF_Gini"
         }
        },
        "yaxis": {
         "anchor": "x",
         "domain": [
          0,
          1
         ],
         "title": {
          "text": "count"
         }
        }
       }
      }
     },
     "metadata": {},
     "output_type": "display_data"
    },
    {
     "data": {
      "application/vnd.plotly.v1+json": {
       "config": {
        "plotlyServerURL": "https://plot.ly"
       },
       "data": [
        {
         "hovertemplate": "x=%{x}<br>y=%{y}<extra></extra>",
         "legendgroup": "",
         "marker": {
          "color": "#636efa",
          "symbol": "circle"
         },
         "mode": "markers",
         "name": "",
         "orientation": "v",
         "showlegend": false,
         "type": "scatter",
         "x": [
          0.6708056838537384,
          0.669192002222549,
          0.6680727232111299,
          0.667740196734006,
          0.666987863661004,
          0.6663289064610811,
          0.6654983137542629,
          0.6641329571452461,
          0.6637710602154623,
          0.6637231254200835,
          0.6635904042236314,
          0.6632791513133702,
          0.6632417147615526,
          0.6627275471201806,
          0.6624071813650698,
          0.6624053649534272,
          0.6618317329207433,
          0.6614945422679606,
          0.6602543641290843,
          0.6594496321981931,
          0.6588917167442121,
          0.6584631051698644,
          0.6583141286285439,
          0.6576584963855254,
          0.6567848947454109,
          0.6567709483983928,
          0.6566385350683206,
          0.6563545283326968,
          0.6559871821679852,
          0.6559700647972526,
          0.6559538710256605,
          0.6556018873933152,
          0.655539544451349,
          0.6554954887723596,
          0.6553268703559896,
          0.6548835119820364,
          0.6544066885325683,
          0.6540211782514322,
          0.6537131271515244,
          0.6536026031210758,
          0.6534473461056012,
          0.6527605269982806,
          0.6509154529958232,
          0.6507690625320948,
          0.6503325387917798,
          0.6499242463985173,
          0.6498012537796756,
          0.6495471408695572,
          0.6494631549210717,
          0.6492845616339871,
          0.6489122280339183,
          0.6488721746178701,
          0.6482687565129133,
          0.6481655904889483,
          0.6480191692385822,
          0.6478893111994648,
          0.6478064951432234,
          0.6477189071580902,
          0.6472648966073864,
          0.6467576251729286,
          0.6467570094401685,
          0.6465971344289929,
          0.6462587277040088,
          0.646166337003347,
          0.6456590347822511,
          0.6454048602988569,
          0.6450651913217147,
          0.6448863209548883,
          0.6448259483577543,
          0.6441849705544278,
          0.643754234702058,
          0.643715597471358,
          0.6432616484939302,
          0.6432575538710747,
          0.6429925117044641,
          0.6428743525877891,
          0.6427881192147289,
          0.6427867953892943,
          0.642680766207995,
          0.6426121735785131,
          0.6425339139446968,
          0.6422405480711186,
          0.6421080423811321,
          0.6419148254409939,
          0.641706492261594,
          0.6416798310330789,
          0.6416276476816554,
          0.6415777425414444,
          0.6412153222388142,
          0.6411508242321873,
          0.6409871932511748,
          0.6406421981856572,
          0.6404559082390708,
          0.6404358045644516,
          0.6401679916004201,
          0.64007541617993,
          0.6398656668151814,
          0.6398656668151814,
          0.6397450139808283,
          0.6393158482469963,
          0.6391952261992813,
          0.6390910134296242,
          0.6388525401316141,
          0.6387687389029564,
          0.638648732588001,
          0.6385424263269595,
          0.6385079452923905,
          0.6384941528785628,
          0.638101161444391,
          0.6379434107112381,
          0.6375639346111512,
          0.6368569810425733,
          0.6365613061711446,
          0.6364113752440457,
          0.6356301335179546,
          0.6354900851016563,
          0.6352300303704028,
          0.6350395688343662,
          0.6348894993673964,
          0.6341923975229811,
          0.6337142810347167,
          0.6327961311294041,
          0.6327755040819387,
          0.63225773440392,
          0.6322066901581029,
          0.6319404165259719,
          0.6319404165259719,
          0.6308405023098598,
          0.6306212398739668,
          0.6306119730959263,
          0.6305293725461512,
          0.6303545352289035,
          0.6303220399324863,
          0.6301676295495569,
          0.6298019458632982,
          0.62976404751191,
          0.629628709451227,
          0.6293223516164093,
          0.6293223516164093,
          0.6291184363195634,
          0.6285107234786045,
          0.6279943391992961,
          0.627613231407395,
          0.6275428223662709,
          0.6275162534976699,
          0.6261857781495166,
          0.6259627597437862,
          0.6252483865954488,
          0.6251622147956644,
          0.6242635836188486,
          0.6235775649641164,
          0.623225996951384,
          0.6229220866542882,
          0.6226295212332982,
          0.6224605641639103,
          0.6222333279887728,
          0.6220561816736749,
          0.6219728114579492,
          0.6216712255520231,
          0.621145235841656,
          0.6210888655074633,
          0.6210063573176023,
          0.6207578783622394,
          0.6206136429631721,
          0.6205980649243401,
          0.6201976846970458,
          0.6197070996203884,
          0.6194096699105931,
          0.6190823155886538,
          0.6185918844451865,
          0.6184661826021998,
          0.6183269962117659,
          0.6182781378172473,
          0.6180095244006274,
          0.6177538413719708,
          0.6175084410804088,
          0.6174860899812151,
          0.6174860899812151,
          0.6170827850233103,
          0.6169149054862528,
          0.6162753746549126,
          0.6160279424452424,
          0.6159205278652322,
          0.6151487838169667,
          0.6150673377661164,
          0.6150579786281625,
          0.6146076932606572,
          0.6143514868591546,
          0.6143477308893175,
          0.6139307874507749,
          0.6138011141314854,
          0.6135690136675429,
          0.6134982659734007,
          0.6133896199278706,
          0.6130179328471999,
          0.6125051198179008,
          0.6123830507981989,
          0.6123025129531701,
          0.6121686526511114,
          0.6118533359046336,
          0.6116736035119426,
          0.611382269556473,
          0.6110919823466954,
          0.6110462949758917,
          0.6105691020867676,
          0.6104925972913176,
          0.6103627700388381,
          0.6101747252538852,
          0.6095461236790376,
          0.6095110884849844,
          0.6094794706077504,
          0.6093563240557185,
          0.6090894654774648,
          0.6088581654661109,
          0.6087096199377224,
          0.6078985767460396,
          0.6077312205818279,
          0.6075106343205008,
          0.607107390935872,
          0.6067935519480183,
          0.6066861373680084,
          0.6066852137688681,
          0.6065433181542892,
          0.6064753720442058,
          0.6060896462566034,
          0.6057550262880944,
          0.6057002260724402,
          0.6053341421598872,
          0.6052436910174197,
          0.6047800750356573,
          0.6038546902704125,
          0.6024200637258776,
          0.6023365087903241,
          0.6019251069466229,
          0.6019051572051939,
          0.6017769000712525,
          0.6014743905661859,
          0.6013120834106076,
          0.600950679067032,
          0.6000998287524046,
          0.5996885192686179,
          0.5993584249358961,
          0.5965124157585227,
          0.5949978671017189,
          0.5949685890089735,
          0.5938065473573613,
          0.5937506388227387,
          0.5930163159329718,
          0.5929957812454205,
          0.592905484036143,
          0.592458677558733,
          0.5911524928679672,
          0.5901404745033683,
          0.5895493094803388,
          0.5894919847603679,
          0.5891230992637562,
          0.5890136527656376,
          0.5889478925068523,
          0.5889433976577034,
          0.5882450951344058,
          0.5874061284620498,
          0.586649854699383,
          0.5851109845985534,
          0.5850393440919088,
          0.5849852519689287,
          0.5843958417842654,
          0.5838425751126237,
          0.583428033031846,
          0.5831447959621723,
          0.5825957778465758,
          0.5812152126383829,
          0.5805203582185421,
          0.5803520168819147,
          0.5799297473549967,
          0.5797730125808982,
          0.5791198124822825,
          0.5783464213488834,
          0.5770478101710677,
          0.5764204708483787,
          0.5758137277865172,
          0.5757773687670296,
          0.5743085382676678,
          0.5741950587199705,
          0.5724985302459016,
          0.5722990328316098,
          0.570872349239681,
          0.5708205969011892,
          0.5700126323733075,
          0.5693465018867283,
          0.5675852598995668,
          0.5672172980020951,
          0.5671152095104606,
          0.5657791156008702,
          0.5647681593752825,
          0.5627999388207929,
          0.5625360665464265,
          0.554411441989477,
          0.5516389513036664,
          0.5452259406734097,
          0.5428120527471165
         ],
         "xaxis": "x",
         "y": [
          0.13947887884120402,
          0.2109506269232968,
          0.15682734042766344,
          0.13147073730618652,
          0.17936672079400884,
          0.14248826901442802,
          0.13104815711782503,
          0.12313119531664629,
          0.2394996470943762,
          0.10688015638163839,
          0.12091031376041261,
          0.16501058329771512,
          0.19692293892409163,
          0.15175167383805,
          0.1523242302124994,
          0.14413019810697603,
          0.2209256448798822,
          0.12024155041458484,
          0.23698764936378325,
          0.17908132444485814,
          0.1589593318239675,
          0.2223055439570334,
          0.21278208674112453,
          0.13450779273591595,
          0.1943293548602476,
          0.20706928409140746,
          0.23866921046558032,
          0.27315135534747803,
          0.18537780371377477,
          0.2459607588894832,
          0.2658186766242596,
          0.3188316663326072,
          0.31763014654178434,
          0.27312661383571,
          0.2787418602055831,
          0.20125706180598835,
          0.279873060917756,
          0.1566719642044554,
          0.109848349095651,
          0.19779439398063614,
          0.21180650991005012,
          0.29776984771755166,
          0.2671216498973703,
          0.32321336085385854,
          0.1539296051760457,
          0.11960955611363633,
          0.324928118013843,
          0.29620900722047416,
          0.2868726455728541,
          0.3012692212181811,
          0.31986497603085473,
          0.2605026966195747,
          0.26834060010377625,
          0.22107499876364023,
          0.2594425383977832,
          0.14748959411927665,
          0.23638562763430326,
          0.24685725102355427,
          0.24489709548294258,
          0.2834018839456325,
          0.11639706077654877,
          0.34467972148129755,
          0.25060750400814724,
          0.1651299110997273,
          0.19150455813022105,
          0.12379480127551923,
          0.17110793164606863,
          0.13961203817273926,
          0.27600127523833073,
          0.22670328750180513,
          0.33372730907450454,
          0.30522344370573795,
          0.2660608246036873,
          0.20885269721656097,
          0.14438928919599392,
          0.13294002288527018,
          0.13924502034386776,
          0.2868914215545595,
          0.3399456561271086,
          0.19543919450835312,
          0.25674610590996094,
          0.29001055637270934,
          0.1192013432417045,
          0.19548771658765007,
          0.20089619431822703,
          0.25284585483837296,
          0.15707576472607188,
          0.3521714569881329,
          0.31380406639289404,
          0.2897882527455877,
          0.2420984055553046,
          0.2402624992195488,
          0.33854097287603757,
          0.19728251274855269,
          0.18052797265169973,
          0.26242494598144916,
          0.3479083917753365,
          0.3479083917753365,
          0.24616183977429973,
          0.0856107905112844,
          0.32817176537516635,
          0.34300091331307025,
          0.3021681372295797,
          0.13273313234726092,
          0.29842259998022325,
          0.2724613549179762,
          0.2604210322853213,
          0.1548632922596267,
          0.3239399634699236,
          0.329834726497761,
          0.14380484880153,
          0.2543793156421177,
          0.3096349566652865,
          0.3163292004527154,
          0.300253007747584,
          0.3490235116306628,
          0.18739173692679723,
          0.13033391747707324,
          0.3385377286064375,
          0.3574795991241002,
          0.2058229690733384,
          0.29442427898019496,
          0.35245076926726204,
          0.1406473753263484,
          0.13022233558909013,
          0.2920157123532441,
          0.2920157123532441,
          0.3483482666467541,
          0.3214716834950595,
          0.333533567015482,
          0.2730898225624694,
          0.33060891327483444,
          0.16811904845943815,
          0.2061624228936898,
          0.3596802970236077,
          0.28315355826971955,
          0.35596918064477134,
          0.3226723240534157,
          0.3226723240534157,
          0.15092219222830616,
          0.23304518448098333,
          0.30934102385211437,
          0.16601350131104997,
          0.2516896946403575,
          0.3557109953962956,
          0.18672346147872032,
          0.28885840328163326,
          0.35958573352190726,
          0.1169629068684801,
          0.2840678507116192,
          0.18421067050540163,
          0.24391091495895556,
          0.26169573943446456,
          0.30151739772654707,
          0.1403251408053523,
          0.36441840115316504,
          0.36495824538275,
          0.371420455250985,
          0.377042117033459,
          0.35464119231082036,
          0.2387047298080225,
          0.2548945655849706,
          0.25920452997508336,
          0.27533020371913763,
          0.34791455028060714,
          0.2560163374603457,
          0.308187140045596,
          0.37829657393201077,
          0.3625968359713372,
          0.3540394782886711,
          0.23755905222342832,
          0.34828579945424387,
          0.379830982367769,
          0.33934608360244845,
          0.24028301367036753,
          0.3675656518436248,
          0.38170762364744326,
          0.38170762364744326,
          0.3785081115952018,
          0.37978067473948407,
          0.2221260746933229,
          0.34304404127750887,
          0.37913617514007325,
          0.1534803611740272,
          0.3017068349212604,
          0.3314253410804959,
          0.243017822424622,
          0.37185348209467706,
          0.3829514259951934,
          0.35250118344830605,
          0.3861737760128965,
          0.23707384070445836,
          0.2093787117351691,
          0.37363953193837296,
          0.3002160255878319,
          0.19788512230342148,
          0.3874654316114887,
          0.2515964915268054,
          0.25687200927590603,
          0.2884449084424081,
          0.25510606795082813,
          0.3853904407158957,
          0.15608795780159612,
          0.15388505959598064,
          0.2911506438347682,
          0.38723773841411924,
          0.3889057413693995,
          0.38967397176995333,
          0.38454651736792234,
          0.29955761952311,
          0.3324948969606709,
          0.3906185660886634,
          0.30730901279425327,
          0.3823133623772499,
          0.31425792209353287,
          0.39144676652810717,
          0.3922185597069354,
          0.3920356808613661,
          0.39281727949727285,
          0.3932064480519817,
          0.2920983403121913,
          0.2890036352169829,
          0.3934566818457108,
          0.39130332781472354,
          0.3938347070034163,
          0.3911428686082339,
          0.1490504457007138,
          0.3671923274330624,
          0.31957235497990055,
          0.36101695515082,
          0.3062622065438161,
          0.3445401134314563,
          0.39514167428057934,
          0.39701622044094864,
          0.13547859279059216,
          0.3146446520705135,
          0.3938102706518454,
          0.3674604333291773,
          0.3874681260136066,
          0.3871157582365268,
          0.27008667953079635,
          0.32094380686609414,
          0.3175144128145786,
          0.40495181062806984,
          0.40503141099102646,
          0.3709302338472633,
          0.40619914146602465,
          0.3927601540279557,
          0.4070042187545795,
          0.40709451596385704,
          0.40754132244126695,
          0.4088475071320328,
          0.40985952549663174,
          0.4104506905196612,
          0.4105080152396321,
          0.349939100522741,
          0.41098634723436245,
          0.4110521074931477,
          0.3853204266629515,
          0.38637824777252305,
          0.3192696621548774,
          0.4051541410457489,
          0.4148890154014466,
          0.2719877228833274,
          0.40709807643825036,
          0.4156041582157346,
          0.1574600007842224,
          0.416571966968154,
          0.41478466369020106,
          0.4174042221534242,
          0.41878478736161706,
          0.4194796417814579,
          0.4108952678573623,
          0.4200702526450033,
          0.3126641243466808,
          0.3758589836871207,
          0.3903418393947746,
          0.35316345324486864,
          0.42357952915162134,
          0.3502947873005491,
          0.42422263123297044,
          0.42125126588837336,
          0.38133717796354194,
          0.3692127906457936,
          0.33784360628524723,
          0.4262025092681061,
          0.42917940309881075,
          0.42639850813329483,
          0.4306534981132717,
          0.15204516408730617,
          0.3414093010573156,
          0.4290493868181273,
          0.16523041464436505,
          0.3848555275315404,
          0.42857081742771963,
          0.3339710340244708,
          0.43478950442094244,
          0.44646720226804715,
          0.4538667466675319,
          0.4567079864456056
         ],
         "yaxis": "y"
        }
       ],
       "layout": {
        "legend": {
         "tracegroupgap": 0
        },
        "margin": {
         "t": 60
        },
        "template": {
         "data": {
          "bar": [
           {
            "error_x": {
             "color": "#2a3f5f"
            },
            "error_y": {
             "color": "#2a3f5f"
            },
            "marker": {
             "line": {
              "color": "#E5ECF6",
              "width": 0.5
             },
             "pattern": {
              "fillmode": "overlay",
              "size": 10,
              "solidity": 0.2
             }
            },
            "type": "bar"
           }
          ],
          "barpolar": [
           {
            "marker": {
             "line": {
              "color": "#E5ECF6",
              "width": 0.5
             },
             "pattern": {
              "fillmode": "overlay",
              "size": 10,
              "solidity": 0.2
             }
            },
            "type": "barpolar"
           }
          ],
          "carpet": [
           {
            "aaxis": {
             "endlinecolor": "#2a3f5f",
             "gridcolor": "white",
             "linecolor": "white",
             "minorgridcolor": "white",
             "startlinecolor": "#2a3f5f"
            },
            "baxis": {
             "endlinecolor": "#2a3f5f",
             "gridcolor": "white",
             "linecolor": "white",
             "minorgridcolor": "white",
             "startlinecolor": "#2a3f5f"
            },
            "type": "carpet"
           }
          ],
          "choropleth": [
           {
            "colorbar": {
             "outlinewidth": 0,
             "ticks": ""
            },
            "type": "choropleth"
           }
          ],
          "contour": [
           {
            "colorbar": {
             "outlinewidth": 0,
             "ticks": ""
            },
            "colorscale": [
             [
              0,
              "#0d0887"
             ],
             [
              0.1111111111111111,
              "#46039f"
             ],
             [
              0.2222222222222222,
              "#7201a8"
             ],
             [
              0.3333333333333333,
              "#9c179e"
             ],
             [
              0.4444444444444444,
              "#bd3786"
             ],
             [
              0.5555555555555556,
              "#d8576b"
             ],
             [
              0.6666666666666666,
              "#ed7953"
             ],
             [
              0.7777777777777778,
              "#fb9f3a"
             ],
             [
              0.8888888888888888,
              "#fdca26"
             ],
             [
              1,
              "#f0f921"
             ]
            ],
            "type": "contour"
           }
          ],
          "contourcarpet": [
           {
            "colorbar": {
             "outlinewidth": 0,
             "ticks": ""
            },
            "type": "contourcarpet"
           }
          ],
          "heatmap": [
           {
            "colorbar": {
             "outlinewidth": 0,
             "ticks": ""
            },
            "colorscale": [
             [
              0,
              "#0d0887"
             ],
             [
              0.1111111111111111,
              "#46039f"
             ],
             [
              0.2222222222222222,
              "#7201a8"
             ],
             [
              0.3333333333333333,
              "#9c179e"
             ],
             [
              0.4444444444444444,
              "#bd3786"
             ],
             [
              0.5555555555555556,
              "#d8576b"
             ],
             [
              0.6666666666666666,
              "#ed7953"
             ],
             [
              0.7777777777777778,
              "#fb9f3a"
             ],
             [
              0.8888888888888888,
              "#fdca26"
             ],
             [
              1,
              "#f0f921"
             ]
            ],
            "type": "heatmap"
           }
          ],
          "heatmapgl": [
           {
            "colorbar": {
             "outlinewidth": 0,
             "ticks": ""
            },
            "colorscale": [
             [
              0,
              "#0d0887"
             ],
             [
              0.1111111111111111,
              "#46039f"
             ],
             [
              0.2222222222222222,
              "#7201a8"
             ],
             [
              0.3333333333333333,
              "#9c179e"
             ],
             [
              0.4444444444444444,
              "#bd3786"
             ],
             [
              0.5555555555555556,
              "#d8576b"
             ],
             [
              0.6666666666666666,
              "#ed7953"
             ],
             [
              0.7777777777777778,
              "#fb9f3a"
             ],
             [
              0.8888888888888888,
              "#fdca26"
             ],
             [
              1,
              "#f0f921"
             ]
            ],
            "type": "heatmapgl"
           }
          ],
          "histogram": [
           {
            "marker": {
             "pattern": {
              "fillmode": "overlay",
              "size": 10,
              "solidity": 0.2
             }
            },
            "type": "histogram"
           }
          ],
          "histogram2d": [
           {
            "colorbar": {
             "outlinewidth": 0,
             "ticks": ""
            },
            "colorscale": [
             [
              0,
              "#0d0887"
             ],
             [
              0.1111111111111111,
              "#46039f"
             ],
             [
              0.2222222222222222,
              "#7201a8"
             ],
             [
              0.3333333333333333,
              "#9c179e"
             ],
             [
              0.4444444444444444,
              "#bd3786"
             ],
             [
              0.5555555555555556,
              "#d8576b"
             ],
             [
              0.6666666666666666,
              "#ed7953"
             ],
             [
              0.7777777777777778,
              "#fb9f3a"
             ],
             [
              0.8888888888888888,
              "#fdca26"
             ],
             [
              1,
              "#f0f921"
             ]
            ],
            "type": "histogram2d"
           }
          ],
          "histogram2dcontour": [
           {
            "colorbar": {
             "outlinewidth": 0,
             "ticks": ""
            },
            "colorscale": [
             [
              0,
              "#0d0887"
             ],
             [
              0.1111111111111111,
              "#46039f"
             ],
             [
              0.2222222222222222,
              "#7201a8"
             ],
             [
              0.3333333333333333,
              "#9c179e"
             ],
             [
              0.4444444444444444,
              "#bd3786"
             ],
             [
              0.5555555555555556,
              "#d8576b"
             ],
             [
              0.6666666666666666,
              "#ed7953"
             ],
             [
              0.7777777777777778,
              "#fb9f3a"
             ],
             [
              0.8888888888888888,
              "#fdca26"
             ],
             [
              1,
              "#f0f921"
             ]
            ],
            "type": "histogram2dcontour"
           }
          ],
          "mesh3d": [
           {
            "colorbar": {
             "outlinewidth": 0,
             "ticks": ""
            },
            "type": "mesh3d"
           }
          ],
          "parcoords": [
           {
            "line": {
             "colorbar": {
              "outlinewidth": 0,
              "ticks": ""
             }
            },
            "type": "parcoords"
           }
          ],
          "pie": [
           {
            "automargin": true,
            "type": "pie"
           }
          ],
          "scatter": [
           {
            "fillpattern": {
             "fillmode": "overlay",
             "size": 10,
             "solidity": 0.2
            },
            "type": "scatter"
           }
          ],
          "scatter3d": [
           {
            "line": {
             "colorbar": {
              "outlinewidth": 0,
              "ticks": ""
             }
            },
            "marker": {
             "colorbar": {
              "outlinewidth": 0,
              "ticks": ""
             }
            },
            "type": "scatter3d"
           }
          ],
          "scattercarpet": [
           {
            "marker": {
             "colorbar": {
              "outlinewidth": 0,
              "ticks": ""
             }
            },
            "type": "scattercarpet"
           }
          ],
          "scattergeo": [
           {
            "marker": {
             "colorbar": {
              "outlinewidth": 0,
              "ticks": ""
             }
            },
            "type": "scattergeo"
           }
          ],
          "scattergl": [
           {
            "marker": {
             "colorbar": {
              "outlinewidth": 0,
              "ticks": ""
             }
            },
            "type": "scattergl"
           }
          ],
          "scattermapbox": [
           {
            "marker": {
             "colorbar": {
              "outlinewidth": 0,
              "ticks": ""
             }
            },
            "type": "scattermapbox"
           }
          ],
          "scatterpolar": [
           {
            "marker": {
             "colorbar": {
              "outlinewidth": 0,
              "ticks": ""
             }
            },
            "type": "scatterpolar"
           }
          ],
          "scatterpolargl": [
           {
            "marker": {
             "colorbar": {
              "outlinewidth": 0,
              "ticks": ""
             }
            },
            "type": "scatterpolargl"
           }
          ],
          "scatterternary": [
           {
            "marker": {
             "colorbar": {
              "outlinewidth": 0,
              "ticks": ""
             }
            },
            "type": "scatterternary"
           }
          ],
          "surface": [
           {
            "colorbar": {
             "outlinewidth": 0,
             "ticks": ""
            },
            "colorscale": [
             [
              0,
              "#0d0887"
             ],
             [
              0.1111111111111111,
              "#46039f"
             ],
             [
              0.2222222222222222,
              "#7201a8"
             ],
             [
              0.3333333333333333,
              "#9c179e"
             ],
             [
              0.4444444444444444,
              "#bd3786"
             ],
             [
              0.5555555555555556,
              "#d8576b"
             ],
             [
              0.6666666666666666,
              "#ed7953"
             ],
             [
              0.7777777777777778,
              "#fb9f3a"
             ],
             [
              0.8888888888888888,
              "#fdca26"
             ],
             [
              1,
              "#f0f921"
             ]
            ],
            "type": "surface"
           }
          ],
          "table": [
           {
            "cells": {
             "fill": {
              "color": "#EBF0F8"
             },
             "line": {
              "color": "white"
             }
            },
            "header": {
             "fill": {
              "color": "#C8D4E3"
             },
             "line": {
              "color": "white"
             }
            },
            "type": "table"
           }
          ]
         },
         "layout": {
          "annotationdefaults": {
           "arrowcolor": "#2a3f5f",
           "arrowhead": 0,
           "arrowwidth": 1
          },
          "autotypenumbers": "strict",
          "coloraxis": {
           "colorbar": {
            "outlinewidth": 0,
            "ticks": ""
           }
          },
          "colorscale": {
           "diverging": [
            [
             0,
             "#8e0152"
            ],
            [
             0.1,
             "#c51b7d"
            ],
            [
             0.2,
             "#de77ae"
            ],
            [
             0.3,
             "#f1b6da"
            ],
            [
             0.4,
             "#fde0ef"
            ],
            [
             0.5,
             "#f7f7f7"
            ],
            [
             0.6,
             "#e6f5d0"
            ],
            [
             0.7,
             "#b8e186"
            ],
            [
             0.8,
             "#7fbc41"
            ],
            [
             0.9,
             "#4d9221"
            ],
            [
             1,
             "#276419"
            ]
           ],
           "sequential": [
            [
             0,
             "#0d0887"
            ],
            [
             0.1111111111111111,
             "#46039f"
            ],
            [
             0.2222222222222222,
             "#7201a8"
            ],
            [
             0.3333333333333333,
             "#9c179e"
            ],
            [
             0.4444444444444444,
             "#bd3786"
            ],
            [
             0.5555555555555556,
             "#d8576b"
            ],
            [
             0.6666666666666666,
             "#ed7953"
            ],
            [
             0.7777777777777778,
             "#fb9f3a"
            ],
            [
             0.8888888888888888,
             "#fdca26"
            ],
            [
             1,
             "#f0f921"
            ]
           ],
           "sequentialminus": [
            [
             0,
             "#0d0887"
            ],
            [
             0.1111111111111111,
             "#46039f"
            ],
            [
             0.2222222222222222,
             "#7201a8"
            ],
            [
             0.3333333333333333,
             "#9c179e"
            ],
            [
             0.4444444444444444,
             "#bd3786"
            ],
            [
             0.5555555555555556,
             "#d8576b"
            ],
            [
             0.6666666666666666,
             "#ed7953"
            ],
            [
             0.7777777777777778,
             "#fb9f3a"
            ],
            [
             0.8888888888888888,
             "#fdca26"
            ],
            [
             1,
             "#f0f921"
            ]
           ]
          },
          "colorway": [
           "#636efa",
           "#EF553B",
           "#00cc96",
           "#ab63fa",
           "#FFA15A",
           "#19d3f3",
           "#FF6692",
           "#B6E880",
           "#FF97FF",
           "#FECB52"
          ],
          "font": {
           "color": "#2a3f5f"
          },
          "geo": {
           "bgcolor": "white",
           "lakecolor": "white",
           "landcolor": "#E5ECF6",
           "showlakes": true,
           "showland": true,
           "subunitcolor": "white"
          },
          "hoverlabel": {
           "align": "left"
          },
          "hovermode": "closest",
          "mapbox": {
           "style": "light"
          },
          "paper_bgcolor": "white",
          "plot_bgcolor": "#E5ECF6",
          "polar": {
           "angularaxis": {
            "gridcolor": "white",
            "linecolor": "white",
            "ticks": ""
           },
           "bgcolor": "#E5ECF6",
           "radialaxis": {
            "gridcolor": "white",
            "linecolor": "white",
            "ticks": ""
           }
          },
          "scene": {
           "xaxis": {
            "backgroundcolor": "#E5ECF6",
            "gridcolor": "white",
            "gridwidth": 2,
            "linecolor": "white",
            "showbackground": true,
            "ticks": "",
            "zerolinecolor": "white"
           },
           "yaxis": {
            "backgroundcolor": "#E5ECF6",
            "gridcolor": "white",
            "gridwidth": 2,
            "linecolor": "white",
            "showbackground": true,
            "ticks": "",
            "zerolinecolor": "white"
           },
           "zaxis": {
            "backgroundcolor": "#E5ECF6",
            "gridcolor": "white",
            "gridwidth": 2,
            "linecolor": "white",
            "showbackground": true,
            "ticks": "",
            "zerolinecolor": "white"
           }
          },
          "shapedefaults": {
           "line": {
            "color": "#2a3f5f"
           }
          },
          "ternary": {
           "aaxis": {
            "gridcolor": "white",
            "linecolor": "white",
            "ticks": ""
           },
           "baxis": {
            "gridcolor": "white",
            "linecolor": "white",
            "ticks": ""
           },
           "bgcolor": "#E5ECF6",
           "caxis": {
            "gridcolor": "white",
            "linecolor": "white",
            "ticks": ""
           }
          },
          "title": {
           "x": 0.05
          },
          "xaxis": {
           "automargin": true,
           "gridcolor": "white",
           "linecolor": "white",
           "ticks": "",
           "title": {
            "standoff": 15
           },
           "zerolinecolor": "white",
           "zerolinewidth": 2
          },
          "yaxis": {
           "automargin": true,
           "gridcolor": "white",
           "linecolor": "white",
           "ticks": "",
           "title": {
            "standoff": 15
           },
           "zerolinecolor": "white",
           "zerolinewidth": 2
          }
         }
        },
        "xaxis": {
         "anchor": "y",
         "domain": [
          0,
          1
         ],
         "title": {
          "text": "x"
         }
        },
        "yaxis": {
         "anchor": "x",
         "domain": [
          0,
          1
         ],
         "title": {
          "text": "y"
         }
        }
       }
      }
     },
     "metadata": {},
     "output_type": "display_data"
    }
   ],
   "source": [
    "df=copy.deepcopy(gsresults[['IF_Gini', 'OOF_Gini']])\n",
    "df['Diff']=df.IF_Gini-df.OOF_Gini\n",
    "\n",
    "display(df.head(20))\n",
    "\n",
    "\n",
    "fig = px.histogram(df, x=\"IF_Gini\", nbins=20)\n",
    "fig.show()\n",
    "\n",
    "\n",
    "fig = px.scatter(x=df.OOF_Gini, y=df.Diff)\n",
    "fig.show()"
   ]
  },
  {
   "cell_type": "code",
   "execution_count": 18,
   "metadata": {},
   "outputs": [
    {
     "name": "stderr",
     "output_type": "stream",
     "text": [
      "[I 2024-03-30 14:06:01,084] A new study created in memory with name: no-name-28492636-31bd-4d1e-bd17-ffd0d74ba417\n",
      "[I 2024-03-30 14:06:01,179] Trial 0 finished with value: 0.0 and parameters: {'eta': 0.49790903550729415, 'max_depth': 10, 'min_child_weight': 3.266997106480727e-07, 'subsample': 8.448573339145845e-07, 'colsample_bytree': 0.000309647325602685}. Best is trial 0 with value: 0.0.\n",
      "[I 2024-03-30 14:06:01,196] Trial 1 finished with value: 0.0 and parameters: {'eta': 2.535516098966622e-06, 'max_depth': 5, 'min_child_weight': 0.0021778427545121057, 'subsample': 2.158972061644309e-05, 'colsample_bytree': 1.359238601527132e-07}. Best is trial 0 with value: 0.0.\n",
      "[I 2024-03-30 14:06:01,218] Trial 2 finished with value: 0.0 and parameters: {'eta': 5.860829623712927e-05, 'max_depth': 9, 'min_child_weight': 2.832360967544161e-06, 'subsample': 0.0008967589250428712, 'colsample_bytree': 0.008404362192394536}. Best is trial 0 with value: 0.0.\n",
      "[I 2024-03-30 14:06:01,245] Trial 3 finished with value: 0.48933172302737504 and parameters: {'eta': 0.004041450960181582, 'max_depth': 15, 'min_child_weight': 1.3059186494172701e-05, 'subsample': 0.04994349749530582, 'colsample_bytree': 1.6394086074899952e-07}. Best is trial 3 with value: 0.48933172302737504.\n",
      "[I 2024-03-30 14:06:01,262] Trial 4 finished with value: 0.0 and parameters: {'eta': 0.0003889207922787269, 'max_depth': 1, 'min_child_weight': 2.3141722378300634e-07, 'subsample': 1.2796561913282264e-05, 'colsample_bytree': 0.3054228695381831}. Best is trial 3 with value: 0.48933172302737504.\n",
      "[I 2024-03-30 14:06:01,280] Trial 5 finished with value: 0.0 and parameters: {'eta': 5.322900207268015e-05, 'max_depth': 7, 'min_child_weight': 8.201336462513806e-08, 'subsample': 1.0262872576617685e-08, 'colsample_bytree': 0.02703718335347815}. Best is trial 3 with value: 0.48933172302737504.\n",
      "[I 2024-03-30 14:06:01,302] Trial 6 finished with value: 0.0 and parameters: {'eta': 0.045133588171632925, 'max_depth': 7, 'min_child_weight': 7.563891500669023e-06, 'subsample': 6.894914645773078e-05, 'colsample_bytree': 3.5082965605552173e-07}. Best is trial 3 with value: 0.48933172302737504.\n",
      "[I 2024-03-30 14:06:01,320] Trial 7 finished with value: 0.0 and parameters: {'eta': 1.6709548474969133e-08, 'max_depth': 13, 'min_child_weight': 0.4997634090226104, 'subsample': 4.77585531355874e-06, 'colsample_bytree': 0.0044025529753152475}. Best is trial 3 with value: 0.48933172302737504.\n",
      "[I 2024-03-30 14:06:01,347] Trial 8 finished with value: 0.0 and parameters: {'eta': 8.876654308562405e-06, 'max_depth': 6, 'min_child_weight': 0.8634008144236915, 'subsample': 2.4257286552818625e-05, 'colsample_bytree': 0.00195369996703185}. Best is trial 3 with value: 0.48933172302737504.\n",
      "[I 2024-03-30 14:06:01,373] Trial 9 finished with value: 0.6076892109500807 and parameters: {'eta': 7.230126315476708e-07, 'max_depth': 5, 'min_child_weight': 1.3171025203193277e-08, 'subsample': 0.3916355605603488, 'colsample_bytree': 0.3259188773911546}. Best is trial 9 with value: 0.6076892109500807.\n",
      "[I 2024-03-30 14:06:01,446] Trial 10 finished with value: 0.5975577026301666 and parameters: {'eta': 1.7709269675002758e-07, 'max_depth': 19, 'min_child_weight': 1.024676460849093e-08, 'subsample': 0.09063869800544881, 'colsample_bytree': 0.98687928965427}. Best is trial 9 with value: 0.6076892109500807.\n",
      "[I 2024-03-30 14:06:01,519] Trial 11 finished with value: 0.6362721417069241 and parameters: {'eta': 1.2761171504811358e-07, 'max_depth': 18, 'min_child_weight': 1.0247291114294125e-08, 'subsample': 0.5080844767525223, 'colsample_bytree': 0.8382611087881462}. Best is trial 11 with value: 0.6362721417069241.\n",
      "[I 2024-03-30 14:06:01,585] Trial 12 finished with value: 0.5324745034889964 and parameters: {'eta': 2.2452671267837193e-07, 'max_depth': 19, 'min_child_weight': 1.6062179712733914e-08, 'subsample': 0.3424754367030799, 'colsample_bytree': 0.13779287469935741}. Best is trial 11 with value: 0.6362721417069241.\n",
      "[I 2024-03-30 14:06:01,650] Trial 13 finished with value: 0.41612989801395606 and parameters: {'eta': 8.224993386015197e-07, 'max_depth': 1, 'min_child_weight': 1.5829286228458018e-08, 'subsample': 0.9604440729917291, 'colsample_bytree': 0.7575427105755395}. Best is trial 11 with value: 0.6362721417069241.\n",
      "[I 2024-03-30 14:06:01,718] Trial 14 finished with value: 0.0 and parameters: {'eta': 1.4527105324813333e-08, 'max_depth': 15, 'min_child_weight': 6.131456745854454e-07, 'subsample': 0.0075559103023815875, 'colsample_bytree': 0.05050771732550339}. Best is trial 11 with value: 0.6362721417069241.\n",
      "[I 2024-03-30 14:06:01,783] Trial 15 finished with value: 0.31568706387546963 and parameters: {'eta': 5.024142068507496e-06, 'max_depth': 4, 'min_child_weight': 0.00010279946670289092, 'subsample': 0.007770146424713458, 'colsample_bytree': 2.1834029639219184e-05}. Best is trial 11 with value: 0.6362721417069241.\n",
      "[I 2024-03-30 14:06:01,855] Trial 16 finished with value: 0.4752415458937198 and parameters: {'eta': 3.3294601945002033e-07, 'max_depth': 13, 'min_child_weight': 7.853983132727232e-08, 'subsample': 0.9233130983653933, 'colsample_bytree': 0.07106509312945047}. Best is trial 11 with value: 0.6362721417069241.\n",
      "[I 2024-03-30 14:06:01,928] Trial 17 finished with value: 0.6103059581320451 and parameters: {'eta': 8.244155801025659e-08, 'max_depth': 20, 'min_child_weight': 1.3471441777309708e-06, 'subsample': 0.04843722800109692, 'colsample_bytree': 0.780883687927114}. Best is trial 11 with value: 0.6362721417069241.\n",
      "[I 2024-03-30 14:06:01,993] Trial 18 finished with value: 0.44122383252818054 and parameters: {'eta': 4.2886004781387794e-08, 'max_depth': 20, 'min_child_weight': 1.2919810758315699e-06, 'subsample': 0.033937990693894714, 'colsample_bytree': 0.020807712986050803}. Best is trial 11 with value: 0.6362721417069241.\n",
      "[I 2024-03-30 14:06:02,058] Trial 19 finished with value: 0.0 and parameters: {'eta': 5.147458086231857e-08, 'max_depth': 17, 'min_child_weight': 1.0788488274554606e-07, 'subsample': 0.001132192914842033, 'colsample_bytree': 0.0008756306583855105}. Best is trial 11 with value: 0.6362721417069241.\n",
      "[I 2024-03-30 14:06:02,122] Trial 20 finished with value: 0.4013016639828235 and parameters: {'eta': 7.831589405852933e-08, 'max_depth': 16, 'min_child_weight': 4.02501351568764e-05, 'subsample': 0.12104825062034147, 'colsample_bytree': 5.3805770375082435e-05}. Best is trial 11 with value: 0.6362721417069241.\n",
      "[I 2024-03-30 14:06:02,194] Trial 21 finished with value: 0.4883252818035426 and parameters: {'eta': 9.229979844916363e-07, 'max_depth': 18, 'min_child_weight': 7.56124497611302e-08, 'subsample': 0.27520452769785303, 'colsample_bytree': 0.18165500746050087}. Best is trial 11 with value: 0.6362721417069241.\n",
      "[I 2024-03-30 14:06:02,263] Trial 22 finished with value: 0.5433440687063877 and parameters: {'eta': 7.076141732619109e-07, 'max_depth': 12, 'min_child_weight': 1.3078341884910713e-08, 'subsample': 0.9934686366584718, 'colsample_bytree': 0.7478948775593605}. Best is trial 11 with value: 0.6362721417069241.\n",
      "[I 2024-03-30 14:06:02,323] Trial 23 finished with value: 0.4525630703166934 and parameters: {'eta': 1.0040341836857142e-07, 'max_depth': 20, 'min_child_weight': 6.970945015706529e-07, 'subsample': 0.0164229560344628, 'colsample_bytree': 0.08880172074619729}. Best is trial 11 with value: 0.6362721417069241.\n",
      "[I 2024-03-30 14:06:02,394] Trial 24 finished with value: 0.0 and parameters: {'eta': 1.3871240841543798e-08, 'max_depth': 17, 'min_child_weight': 5.4129094903952573e-08, 'subsample': 0.16873194720909668, 'colsample_bytree': 0.011988207652514285}. Best is trial 11 with value: 0.6362721417069241.\n",
      "[I 2024-03-30 14:06:02,458] Trial 25 finished with value: 0.4787305421363395 and parameters: {'eta': 2.22238309431272e-06, 'max_depth': 3, 'min_child_weight': 3.3063706807404064e-07, 'subsample': 0.027220276840202683, 'colsample_bytree': 0.22224461427236214}. Best is trial 11 with value: 0.6362721417069241.\n",
      "[I 2024-03-30 14:06:02,522] Trial 26 finished with value: -0.04106280193236711 and parameters: {'eta': 9.406267486075708e-06, 'max_depth': 8, 'min_child_weight': 2.1789677303852135e-06, 'subsample': 0.0030658419042398416, 'colsample_bytree': 0.7892354371978234}. Best is trial 11 with value: 0.6362721417069241.\n",
      "[I 2024-03-30 14:06:02,591] Trial 27 finished with value: 0.4005636070853462 and parameters: {'eta': 9.679685331746025e-08, 'max_depth': 11, 'min_child_weight': 3.6863249747628986e-08, 'subsample': 0.07070578617009567, 'colsample_bytree': 0.034105092221947846}. Best is trial 11 with value: 0.6362721417069241.\n",
      "[I 2024-03-30 14:06:02,659] Trial 28 finished with value: 0.5323403113258185 and parameters: {'eta': 4.036410585692089e-07, 'max_depth': 14, 'min_child_weight': 2.352034903046212e-07, 'subsample': 0.2545180392567773, 'colsample_bytree': 0.26876220690630714}. Best is trial 11 with value: 0.6362721417069241.\n",
      "[I 2024-03-30 14:06:02,722] Trial 29 finished with value: 0.0 and parameters: {'eta': 3.9496512817810386e-08, 'max_depth': 10, 'min_child_weight': 3.902889177677655e-07, 'subsample': 0.00045623224259940914, 'colsample_bytree': 0.0057593718379824015}. Best is trial 11 with value: 0.6362721417069241.\n",
      "[I 2024-03-30 14:06:02,790] Trial 30 finished with value: 0.4824208266237253 and parameters: {'eta': 1.558334603038058e-06, 'max_depth': 18, 'min_child_weight': 2.7958262560492e-08, 'subsample': 0.025015609622545062, 'colsample_bytree': 0.00043051523899937457}. Best is trial 11 with value: 0.6362721417069241.\n",
      "[I 2024-03-30 14:06:02,858] Trial 31 finished with value: 0.6045356951154053 and parameters: {'eta': 3.1789998999577127e-07, 'max_depth': 20, 'min_child_weight': 1.1598038646292908e-08, 'subsample': 0.09595341917878358, 'colsample_bytree': 0.8915777953035442}. Best is trial 11 with value: 0.6362721417069241.\n",
      "[I 2024-03-30 14:06:02,923] Trial 32 finished with value: 0.5721282877079978 and parameters: {'eta': 2.1010031493584658e-07, 'max_depth': 20, 'min_child_weight': 2.8708562429750473e-08, 'subsample': 0.32580079485057883, 'colsample_bytree': 0.25138659091481397}. Best is trial 11 with value: 0.6362721417069241.\n",
      "[I 2024-03-30 14:06:02,994] Trial 33 finished with value: 0.47155126140633374 and parameters: {'eta': 4.841184462201976e-07, 'max_depth': 18, 'min_child_weight': 1.0451125004989619e-08, 'subsample': 0.10348370571157306, 'colsample_bytree': 0.06251160140991839}. Best is trial 11 with value: 0.6362721417069241.\n",
      "[I 2024-03-30 14:06:03,054] Trial 34 finished with value: 0.555354267310789 and parameters: {'eta': 3.2244375361642526e-06, 'max_depth': 16, 'min_child_weight': 1.611837405302589e-07, 'subsample': 0.010110177381210981, 'colsample_bytree': 0.4369077903430543}. Best is trial 11 with value: 0.6362721417069241.\n",
      "[I 2024-03-30 14:06:03,127] Trial 35 finished with value: 0.5799785292538919 and parameters: {'eta': 2.62610003488331e-08, 'max_depth': 19, 'min_child_weight': 4.748372434135041e-08, 'subsample': 0.04884960827253396, 'colsample_bytree': 0.9473811117724041}. Best is trial 11 with value: 0.6362721417069241.\n",
      "[I 2024-03-30 14:06:03,190] Trial 36 finished with value: 0.0 and parameters: {'eta': 1.1668853905334762e-08, 'max_depth': 9, 'min_child_weight': 1.7588237143708693e-07, 'subsample': 0.45562170511600597, 'colsample_bytree': 0.12212542986312226}. Best is trial 11 with value: 0.6362721417069241.\n",
      "[I 2024-03-30 14:06:03,259] Trial 37 finished with value: 0.4645061728395059 and parameters: {'eta': 1.285399478279374e-07, 'max_depth': 3, 'min_child_weight': 9.621308804115075e-07, 'subsample': 0.08247711937399989, 'colsample_bytree': 0.017449143060347994}. Best is trial 11 with value: 0.6362721417069241.\n",
      "[I 2024-03-30 14:06:03,319] Trial 38 finished with value: 0.11218464841653253 and parameters: {'eta': 3.979802339791783e-05, 'max_depth': 17, 'min_child_weight': 3.6119858959419088e-06, 'subsample': 0.003971192300834166, 'colsample_bytree': 0.3170845365045524}. Best is trial 11 with value: 0.6362721417069241.\n",
      "[I 2024-03-30 14:06:03,391] Trial 39 finished with value: 0.48342726784755774 and parameters: {'eta': 1.5149778149785006e-06, 'max_depth': 15, 'min_child_weight': 2.992330667288831e-08, 'subsample': 0.027160289919100643, 'colsample_bytree': 0.046619854844704364}. Best is trial 11 with value: 0.6362721417069241.\n",
      "[I 2024-03-30 14:06:03,486] Trial 40 finished with value: 0.4455850778314545 and parameters: {'eta': 2.2007241762123902e-07, 'max_depth': 6, 'min_child_weight': 1.2927346158504616e-07, 'subsample': 0.11982508661318254, 'colsample_bytree': 0.13931760748683192}. Best is trial 11 with value: 0.6362721417069241.\n",
      "[I 2024-03-30 14:06:03,550] Trial 41 finished with value: 0.6024557165861513 and parameters: {'eta': 1.109014748164882e-07, 'max_depth': 19, 'min_child_weight': 1.2609155692710978e-08, 'subsample': 0.15139235915092272, 'colsample_bytree': 0.8859184702558733}. Best is trial 11 with value: 0.6362721417069241.\n",
      "[I 2024-03-30 14:06:03,630] Trial 42 finished with value: 0.5722624798711755 and parameters: {'eta': 3.903710807923365e-08, 'max_depth': 20, 'min_child_weight': 1.0467871745945893e-08, 'subsample': 0.47926955342117983, 'colsample_bytree': 0.4499337106795462}. Best is trial 11 with value: 0.6362721417069241.\n",
      "[I 2024-03-30 14:06:03,697] Trial 43 finished with value: 0.5263687600644125 and parameters: {'eta': 8.075548929605735e-08, 'max_depth': 19, 'min_child_weight': 2.7007131120047852e-08, 'subsample': 0.04732328418796697, 'colsample_bytree': 0.45196728160544464}. Best is trial 11 with value: 0.6362721417069241.\n",
      "[I 2024-03-30 14:06:03,761] Trial 44 finished with value: 0.48973429951690806 and parameters: {'eta': 5.34502939868712e-07, 'max_depth': 18, 'min_child_weight': 5.947063924470343e-08, 'subsample': 0.20048087726659225, 'colsample_bytree': 0.1367168543291101}. Best is trial 11 with value: 0.6362721417069241.\n",
      "[I 2024-03-30 14:06:03,835] Trial 45 finished with value: 0.5064412238325282 and parameters: {'eta': 2.026910143046815e-07, 'max_depth': 19, 'min_child_weight': 4.1946760903785675e-07, 'subsample': 0.4824396188300721, 'colsample_bytree': 0.022882493649653352}. Best is trial 11 with value: 0.6362721417069241.\n",
      "[I 2024-03-30 14:06:03,906] Trial 46 finished with value: 0.45343531937734816 and parameters: {'eta': 2.2322786437470248e-08, 'max_depth': 16, 'min_child_weight': 2.1712284095937818e-08, 'subsample': 0.16004793403226836, 'colsample_bytree': 0.4265976371213907}. Best is trial 11 with value: 0.6362721417069241.\n",
      "[I 2024-03-30 14:06:03,970] Trial 47 finished with value: 0.4451825013419217 and parameters: {'eta': 8.133171029723814e-07, 'max_depth': 20, 'min_child_weight': 9.088449151918396e-08, 'subsample': 0.06699904306876775, 'colsample_bytree': 0.07277198210108415}. Best is trial 11 with value: 0.6362721417069241.\n",
      "[I 2024-03-30 14:06:04,038] Trial 48 finished with value: 0.0 and parameters: {'eta': 1.0754750861160177e-08, 'max_depth': 17, 'min_child_weight': 1.1906958758079408e-08, 'subsample': 0.01485646399769156, 'colsample_bytree': 0.850281052769585}. Best is trial 11 with value: 0.6362721417069241.\n",
      "[I 2024-03-30 14:06:04,111] Trial 49 finished with value: 0.5247584541062802 and parameters: {'eta': 2.7781871010268926e-07, 'max_depth': 14, 'min_child_weight': 5.192048474514919e-08, 'subsample': 0.6533139112397564, 'colsample_bytree': 0.0036845670337836245}. Best is trial 11 with value: 0.6362721417069241.\n",
      "[I 2024-03-30 14:06:04,182] Trial 50 finished with value: 0.45491143317230276 and parameters: {'eta': 5.3221442006189084e-08, 'max_depth': 2, 'min_child_weight': 1.800296145797259e-07, 'subsample': 0.21826042902299783, 'colsample_bytree': 0.009485100717800858}. Best is trial 11 with value: 0.6362721417069241.\n",
      "[I 2024-03-30 14:06:04,246] Trial 51 finished with value: 0.6075550187869028 and parameters: {'eta': 1.6050447478000047e-07, 'max_depth': 19, 'min_child_weight': 1.8302353071907367e-08, 'subsample': 0.04934811784784839, 'colsample_bytree': 0.9025897051004358}. Best is trial 11 with value: 0.6362721417069241.\n",
      "[I 2024-03-30 14:06:04,338] Trial 52 finished with value: 0.6069511540526034 and parameters: {'eta': 1.0436166732689986e-07, 'max_depth': 19, 'min_child_weight': 1.9323778125117e-08, 'subsample': 0.9574162749903201, 'colsample_bytree': 0.96860049077663}. Best is trial 11 with value: 0.6362721417069241.\n",
      "[I 2024-03-30 14:06:04,411] Trial 53 finished with value: 0.3984165324745037 and parameters: {'eta': 2.8640190031941213e-08, 'max_depth': 18, 'min_child_weight': 2.2960854306757306e-08, 'subsample': 0.8096293755469471, 'colsample_bytree': 0.19303362804067176}. Best is trial 11 with value: 0.6362721417069241.\n",
      "[I 2024-03-30 14:06:04,487] Trial 54 finished with value: 0.5905126140633388 and parameters: {'eta': 4.0994532230135417e-07, 'max_depth': 20, 'min_child_weight': 8.679077326605551e-08, 'subsample': 0.42753522557848567, 'colsample_bytree': 0.47937127595121404}. Best is trial 11 with value: 0.6362721417069241.\n",
      "[I 2024-03-30 14:06:04,554] Trial 55 finished with value: 0.4390767579173376 and parameters: {'eta': 1.6191595861965628e-07, 'max_depth': 19, 'min_child_weight': 3.548097657241306e-08, 'subsample': 0.039897844342800505, 'colsample_bytree': 0.10246373392842967}. Best is trial 11 with value: 0.6362721417069241.\n",
      "[I 2024-03-30 14:06:04,627] Trial 56 finished with value: 0.4033816425120773 and parameters: {'eta': 6.471378113791448e-08, 'max_depth': 5, 'min_child_weight': 2.0859452323022645e-08, 'subsample': 0.987773280929963, 'colsample_bytree': 0.03488946964279481}. Best is trial 11 with value: 0.6362721417069241.\n",
      "[I 2024-03-30 14:06:04,698] Trial 57 finished with value: 0.5512614063338701 and parameters: {'eta': 1.4714093149413263e-06, 'max_depth': 16, 'min_child_weight': 1.1879701582617108e-07, 'subsample': 0.3053748829910626, 'colsample_bytree': 0.2705844869600778}. Best is trial 11 with value: 0.6362721417069241.\n",
      "[I 2024-03-30 14:06:04,771] Trial 58 finished with value: 0.5396537842190017 and parameters: {'eta': 2.1613549451126766e-08, 'max_depth': 17, 'min_child_weight': 3.1310146644242123e-07, 'subsample': 0.08407545353619125, 'colsample_bytree': 0.5069371351222058}. Best is trial 11 with value: 0.6362721417069241.\n",
      "[I 2024-03-30 14:06:04,842] Trial 59 finished with value: 0.47249060654857766 and parameters: {'eta': 2.9400683582335253e-07, 'max_depth': 20, 'min_child_weight': 6.010242398874226e-08, 'subsample': 0.19241801414065024, 'colsample_bytree': 0.1479796736720276}. Best is trial 11 with value: 0.6362721417069241.\n",
      "[I 2024-03-30 14:06:04,906] Trial 60 finished with value: 0.5699812130971551 and parameters: {'eta': 9.067409906511474e-07, 'max_depth': 18, 'min_child_weight': 1.7484949075218442e-08, 'subsample': 0.02173111690617074, 'colsample_bytree': 0.9908721049204814}. Best is trial 11 with value: 0.6362721417069241.\n",
      "[I 2024-03-30 14:06:04,979] Trial 61 finished with value: 0.5706521739130435 and parameters: {'eta': 1.086300906267466e-07, 'max_depth': 19, 'min_child_weight': 1.255049511233573e-08, 'subsample': 0.11444288409924777, 'colsample_bytree': 0.6085714626318778}. Best is trial 11 with value: 0.6362721417069241.\n",
      "[I 2024-03-30 14:06:05,058] Trial 62 finished with value: 0.5182501341921633 and parameters: {'eta': 1.0889490859109505e-07, 'max_depth': 19, 'min_child_weight': 1.0851031768502977e-08, 'subsample': 0.5594075121442655, 'colsample_bytree': 0.2641994627965845}. Best is trial 11 with value: 0.6362721417069241.\n",
      "[I 2024-03-30 14:06:05,130] Trial 63 finished with value: 0.5885668276972624 and parameters: {'eta': 6.504552332096539e-08, 'max_depth': 20, 'min_child_weight': 4.179009025882305e-08, 'subsample': 0.06194978260362866, 'colsample_bytree': 0.983758859613167}. Best is trial 11 with value: 0.6362721417069241.\n",
      "[I 2024-03-30 14:06:05,198] Trial 64 finished with value: 0.44699409554482017 and parameters: {'eta': 1.6888328663885774e-07, 'max_depth': 19, 'min_child_weight': 2.142939643384989e-08, 'subsample': 0.15390898819583784, 'colsample_bytree': 0.06187169295085803}. Best is trial 11 with value: 0.6362721417069241.\n",
      "[I 2024-03-30 14:06:05,270] Trial 65 finished with value: 0.606682769726248 and parameters: {'eta': 4.707836607513677e-07, 'max_depth': 18, 'min_child_weight': 8.38776352384646e-08, 'subsample': 0.2947714344058001, 'colsample_bytree': 0.3825894910001073}. Best is trial 11 with value: 0.6362721417069241.\n",
      "[I 2024-03-30 14:06:05,346] Trial 66 finished with value: 0.541196994095545 and parameters: {'eta': 4.886793928546507e-07, 'max_depth': 17, 'min_child_weight': 8.185187444315177e-08, 'subsample': 0.3224704414847174, 'colsample_bytree': 0.2785749270709525}. Best is trial 11 with value: 0.6362721417069241.\n",
      "[I 2024-03-30 14:06:05,414] Trial 67 finished with value: 0.44578636607622113 and parameters: {'eta': 3.3861919579791805e-06, 'max_depth': 18, 'min_child_weight': 6.013360940843505e-07, 'subsample': 0.040253108053229285, 'colsample_bytree': 0.09755914859816697}. Best is trial 11 with value: 0.6362721417069241.\n",
      "[I 2024-03-30 14:06:05,493] Trial 68 finished with value: 0.5748792270531404 and parameters: {'eta': 4.176094540227626e-08, 'max_depth': 7, 'min_child_weight': 2.1927598136151315e-07, 'subsample': 0.568782001448533, 'colsample_bytree': 0.4286515815491214}. Best is trial 11 with value: 0.6362721417069241.\n",
      "[I 2024-03-30 14:06:05,568] Trial 69 finished with value: 0.5320048309178744 and parameters: {'eta': 3.072140114265257e-07, 'max_depth': 11, 'min_child_weight': 3.850287667277749e-08, 'subsample': 0.28915292892070055, 'colsample_bytree': 0.16202339153726164}. Best is trial 11 with value: 0.6362721417069241.\n",
      "[I 2024-03-30 14:06:05,643] Trial 70 finished with value: 0.4509527643585616 and parameters: {'eta': 6.407203917308785e-07, 'max_depth': 16, 'min_child_weight': 1.011423948989985e-07, 'subsample': 0.9925088169037463, 'colsample_bytree': 0.03925073224104018}. Best is trial 11 with value: 0.6362721417069241.\n",
      "[I 2024-03-30 14:06:05,719] Trial 71 finished with value: 0.6170826623725174 and parameters: {'eta': 1.37664392462539e-07, 'max_depth': 18, 'min_child_weight': 1.8581187291362647e-08, 'subsample': 0.12720841587187556, 'colsample_bytree': 0.6264752500971609}. Best is trial 11 with value: 0.6362721417069241.\n",
      "[I 2024-03-30 14:06:05,790] Trial 72 finished with value: 0.5904455179817498 and parameters: {'eta': 1.517119444777347e-07, 'max_depth': 18, 'min_child_weight': 2.225935460511145e-08, 'subsample': 0.09007406647724857, 'colsample_bytree': 0.549685875243226}. Best is trial 11 with value: 0.6362721417069241.\n",
      "[I 2024-03-30 14:06:05,866] Trial 73 finished with value: 0.5304616210413311 and parameters: {'eta': 6.542737738686451e-08, 'max_depth': 20, 'min_child_weight': 4.2372260935487394e-08, 'subsample': 0.25368274862629764, 'colsample_bytree': 0.25487114733885996}. Best is trial 11 with value: 0.6362721417069241.\n",
      "[I 2024-03-30 14:06:05,954] Trial 74 finished with value: 0.4278717122920024 and parameters: {'eta': 3.4774891930454066e-07, 'max_depth': 17, 'min_child_weight': 1.7428865388904726e-08, 'subsample': 0.010656458447168895, 'colsample_bytree': 0.6561258751186668}. Best is trial 11 with value: 0.6362721417069241.\n",
      "[I 2024-03-30 14:06:06,030] Trial 75 finished with value: 0.23416532474503482 and parameters: {'eta': 1.7775781204997183e-08, 'max_depth': 14, 'min_child_weight': 1.0169238529365582e-08, 'subsample': 0.0545478701379543, 'colsample_bytree': 0.3386767594288919}. Best is trial 11 with value: 0.6362721417069241.\n",
      "[I 2024-03-30 14:06:06,093] Trial 76 finished with value: 0.4937600644122382 and parameters: {'eta': 1.049147822765388e-06, 'max_depth': 19, 'min_child_weight': 6.233549893515684e-08, 'subsample': 0.029590970887219646, 'colsample_bytree': 0.18598304845667948}. Best is trial 11 with value: 0.6362721417069241.\n",
      "[I 2024-03-30 14:06:06,173] Trial 77 finished with value: 0.3691626409017714 and parameters: {'eta': 3.253651147259388e-08, 'max_depth': 15, 'min_child_weight': 2.9369218123923282e-08, 'subsample': 0.4742983012846133, 'colsample_bytree': 0.09212485614307808}. Best is trial 11 with value: 0.6362721417069241.\n",
      "[I 2024-03-30 14:06:06,246] Trial 78 finished with value: 0.5903784219001611 and parameters: {'eta': 2.065467075740122e-07, 'max_depth': 18, 'min_child_weight': 1.2991178031524526e-07, 'subsample': 0.11674367676341299, 'colsample_bytree': 0.5724550066367708}. Best is trial 11 with value: 0.6362721417069241.\n",
      "[I 2024-03-30 14:06:06,318] Trial 79 finished with value: 0.5584406870638756 and parameters: {'eta': 9.984455368988181e-08, 'max_depth': 20, 'min_child_weight': 1.6400883116656436e-08, 'subsample': 0.24082172453563302, 'colsample_bytree': 0.34989489032099774}. Best is trial 11 with value: 0.6362721417069241.\n",
      "[I 2024-03-30 14:06:06,391] Trial 80 finished with value: 0.485440150295223 and parameters: {'eta': 3.8501150943728213e-07, 'max_depth': 13, 'min_child_weight': 4.2409697578233136e-08, 'subsample': 0.018488283190623817, 'colsample_bytree': 0.056264780281261875}. Best is trial 11 with value: 0.6362721417069241.\n",
      "[I 2024-03-30 14:06:06,470] Trial 81 finished with value: 0.6008454106280194 and parameters: {'eta': 1.2761320676494473e-07, 'max_depth': 19, 'min_child_weight': 2.0823084159684356e-08, 'subsample': 0.15972694838017482, 'colsample_bytree': 0.8360838791977773}. Best is trial 11 with value: 0.6362721417069241.\n",
      "[I 2024-03-30 14:06:06,552] Trial 82 finished with value: 0.6133252818035426 and parameters: {'eta': 4.723401283121541e-08, 'max_depth': 19, 'min_child_weight': 1.0045981810379573e-08, 'subsample': 0.7131281535902989, 'colsample_bytree': 0.887531127067194}. Best is trial 11 with value: 0.6362721417069241.\n",
      "[I 2024-03-30 14:06:06,630] Trial 83 finished with value: 0.43297101449275366 and parameters: {'eta': 5.3678989974356174e-08, 'max_depth': 18, 'min_child_weight': 1.653111766556132e-08, 'subsample': 0.6162725544441825, 'colsample_bytree': 0.19218021860978016}. Best is trial 11 with value: 0.6362721417069241.\n",
      "[I 2024-03-30 14:06:06,706] Trial 84 finished with value: 0.6119833601717661 and parameters: {'eta': 2.352874260917932e-07, 'max_depth': 20, 'min_child_weight': 1.0058742898163815e-08, 'subsample': 0.36926920128479196, 'colsample_bytree': 0.9955105908726011}. Best is trial 11 with value: 0.6362721417069241.\n",
      "[I 2024-03-30 14:06:06,785] Trial 85 finished with value: 0.5576355340848096 and parameters: {'eta': 3.787182604212863e-08, 'max_depth': 9, 'min_child_weight': 6.663605073681742e-08, 'subsample': 0.3439030492713968, 'colsample_bytree': 0.38179994927501304}. Best is trial 11 with value: 0.6362721417069241.\n",
      "[I 2024-03-30 14:06:06,866] Trial 86 finished with value: 0.5462962962962963 and parameters: {'eta': 1.9194811863478645e-08, 'max_depth': 17, 'min_child_weight': 3.3841434750028535e-08, 'subsample': 0.6859078043435919, 'colsample_bytree': 0.5232801698614309}. Best is trial 11 with value: 0.6362721417069241.\n",
      "[I 2024-03-30 14:06:06,939] Trial 87 finished with value: 0.625872249060655 and parameters: {'eta': 8.092572854987505e-08, 'max_depth': 19, 'min_child_weight': 2.8099487389788137e-08, 'subsample': 0.3544878810886076, 'colsample_bytree': 0.6726486507676568}. Best is trial 11 with value: 0.6362721417069241.\n",
      "[I 2024-03-30 14:06:07,021] Trial 88 finished with value: 0.5970209339774559 and parameters: {'eta': 7.732764356623882e-08, 'max_depth': 19, 'min_child_weight': 3.0261241600451984e-08, 'subsample': 0.39387183555624117, 'colsample_bytree': 0.6541784125335366}. Best is trial 11 with value: 0.6362721417069241.\n",
      "[I 2024-03-30 14:06:07,102] Trial 89 finished with value: 0.6164117015566293 and parameters: {'eta': 1.9449438377920372e-07, 'max_depth': 20, 'min_child_weight': 1.541557031810872e-08, 'subsample': 0.6621385061734313, 'colsample_bytree': 0.9520734896154207}. Best is trial 11 with value: 0.6362721417069241.\n",
      "[I 2024-03-30 14:06:07,174] Trial 90 finished with value: 0.315485775630703 and parameters: {'eta': 2.8204415194455606e-08, 'max_depth': 20, 'min_child_weight': 1.4995178562656075e-08, 'subsample': 0.13529983416785077, 'colsample_bytree': 0.20706100298453428}. Best is trial 11 with value: 0.6362721417069241.\n",
      "[I 2024-03-30 14:06:07,255] Trial 91 finished with value: 0.6040660225442833 and parameters: {'eta': 2.1965478829061773e-07, 'max_depth': 20, 'min_child_weight': 1.6019457971248644e-08, 'subsample': 0.6743595092682773, 'colsample_bytree': 0.6783800686855402}. Best is trial 11 with value: 0.6362721417069241.\n",
      "[I 2024-03-30 14:06:07,362] Trial 92 finished with value: 0.6243961352657004 and parameters: {'eta': 1.4937097524465788e-07, 'max_depth': 19, 'min_child_weight': 1.0283711276283966e-08, 'subsample': 0.9058204873142246, 'colsample_bytree': 0.9446167257658276}. Best is trial 11 with value: 0.6362721417069241.\n",
      "[I 2024-03-30 14:06:07,438] Trial 93 finished with value: 0.5242887815351585 and parameters: {'eta': 4.5910903236572225e-08, 'max_depth': 20, 'min_child_weight': 1.072147198589768e-08, 'subsample': 0.47647672454724244, 'colsample_bytree': 0.3076134802304617}. Best is trial 11 with value: 0.6362721417069241.\n",
      "[I 2024-03-30 14:06:07,512] Trial 94 finished with value: 0.6272141706924317 and parameters: {'eta': 1.7831763638360547e-07, 'max_depth': 19, 'min_child_weight': 2.860973161310933e-08, 'subsample': 0.20876512985998544, 'colsample_bytree': 0.9775423878325669}. Best is trial 11 with value: 0.6362721417069241.\n",
      "[I 2024-03-30 14:06:07,586] Trial 95 finished with value: 0.4716183574879227 and parameters: {'eta': 2.5571373616090455e-07, 'max_depth': 1, 'min_child_weight': 5.311518025736824e-08, 'subsample': 0.17424815241005479, 'colsample_bytree': 0.12576302814944088}. Best is trial 11 with value: 0.6362721417069241.\n",
      "[I 2024-03-30 14:06:07,651] Trial 96 finished with value: 0.6128556092324207 and parameters: {'eta': 6.243507990788164e-07, 'max_depth': 18, 'min_child_weight': 2.606248573151475e-08, 'subsample': 0.22182218000388765, 'colsample_bytree': 0.634383123002223}. Best is trial 11 with value: 0.6362721417069241.\n",
      "[I 2024-03-30 14:06:07,730] Trial 97 finished with value: 0.35466988727858295 and parameters: {'eta': 1.2762629804525547e-08, 'max_depth': 18, 'min_child_weight': 3.4668068132735726e-08, 'subsample': 0.2292723135193387, 'colsample_bytree': 0.568179697873755}. Best is trial 11 with value: 0.6362721417069241.\n",
      "[I 2024-03-30 14:06:07,809] Trial 98 finished with value: 0.44618894256575414 and parameters: {'eta': 8.233105621578525e-08, 'max_depth': 20, 'min_child_weight': 2.6263242975424943e-08, 'subsample': 0.6890151898932537, 'colsample_bytree': 0.22874833201630637}. Best is trial 11 with value: 0.6362721417069241.\n",
      "[I 2024-03-30 14:06:07,890] Trial 99 finished with value: 0.6759930220075148 and parameters: {'eta': 1.587226828937925e-07, 'max_depth': 19, 'min_child_weight': 1.54599555278586e-07, 'subsample': 0.39340468608893864, 'colsample_bytree': 0.999433786688034}. Best is trial 99 with value: 0.6759930220075148.\n"
     ]
    },
    {
     "name": "stdout",
     "output_type": "stream",
     "text": [
      "FrozenTrial(number=99, state=1, values=[0.6759930220075148], datetime_start=datetime.datetime(2024, 3, 30, 14, 6, 7, 810339), datetime_complete=datetime.datetime(2024, 3, 30, 14, 6, 7, 882659), params={'eta': 1.587226828937925e-07, 'max_depth': 19, 'min_child_weight': 1.54599555278586e-07, 'subsample': 0.39340468608893864, 'colsample_bytree': 0.999433786688034}, user_attrs={}, system_attrs={}, intermediate_values={}, distributions={'eta': FloatDistribution(high=1.0, log=True, low=1e-08, step=None), 'max_depth': IntDistribution(high=20, log=False, low=1, step=1), 'min_child_weight': FloatDistribution(high=1.0, log=True, low=1e-08, step=None), 'subsample': FloatDistribution(high=1.0, log=True, low=1e-08, step=None), 'colsample_bytree': FloatDistribution(high=1.0, log=True, low=1e-08, step=None)}, trial_id=99, value=None)\n"
     ]
    }
   ],
   "source": [
    "#================================================================================\n",
    "# Step 7: Optuna\n",
    "\n",
    "def objective(trial):\n",
    "\n",
    "    param = {\n",
    "        \"objective\": \"binary:logistic\",\n",
    "        \"eval_metric\": \"auc\",\n",
    "        \"booster\": 'gbtree',\n",
    "        #\"lambda\": trial.suggest_float(\"lambda\", 1e-8, 1.0, log=True),\n",
    "        #\"alpha\": trial.suggest_float(\"alpha\", 1e-8, 1.0, log=True),\n",
    "        'eta': trial.suggest_float(\"eta\", 1e-8, 1.0, log=True),\n",
    "        'max_depth': trial.suggest_int(\"max_depth\", 1,20,1),\n",
    "        'min_child_weight' : trial.suggest_float(\"min_child_weight\", 1e-8, 1.0, log=True),\n",
    "        'subsample' : trial.suggest_float(\"subsample\", 1e-8, 1.0, log=True),\n",
    "        'colsample_bytree' : trial.suggest_float(\"colsample_bytree\", 1e-8, 1.0, log=True),\n",
    "    }\n",
    "\n",
    "    dtrain = xgboost.DMatrix(X_train, label=y_train)\n",
    "    dtest = xgboost.DMatrix(X_test, label=y_test)\n",
    "\n",
    "    bst = xgboost.train(param, dtrain)\n",
    "    preds = bst.predict(dtest)\n",
    "    pred_labels = np.rint(preds)\n",
    "\n",
    "    Gini = roc_auc_score(y_test, preds)*2-1\n",
    "    return Gini\n",
    "\n",
    "study = optuna.create_study(direction=\"maximize\")\n",
    "study.optimize(objective, n_trials=100)\n",
    "print(study.best_trial)\n",
    "#================================================================================"
   ]
  }
 ],
 "metadata": {
  "kernelspec": {
   "display_name": "Python 3",
   "language": "python",
   "name": "python3"
  },
  "language_info": {
   "codemirror_mode": {
    "name": "ipython",
    "version": 3
   },
   "file_extension": ".py",
   "mimetype": "text/x-python",
   "name": "python",
   "nbconvert_exporter": "python",
   "pygments_lexer": "ipython3",
   "version": "3.12.7"
  }
 },
 "nbformat": 4,
 "nbformat_minor": 2
}
